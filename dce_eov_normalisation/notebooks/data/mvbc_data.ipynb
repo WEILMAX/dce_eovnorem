{
 "cells": [
  {
   "cell_type": "code",
   "execution_count": 1,
   "metadata": {},
   "outputs": [],
   "source": [
    "%load_ext autoreload\n",
    "%autoreload 2"
   ]
  },
  {
   "cell_type": "code",
   "execution_count": 2,
   "metadata": {},
   "outputs": [],
   "source": [
    "import mvbc"
   ]
  },
  {
   "cell_type": "code",
   "execution_count": 3,
   "metadata": {},
   "outputs": [
    {
     "data": {
      "text/plain": [
       "'0.0.3'"
      ]
     },
     "execution_count": 3,
     "metadata": {},
     "output_type": "execute_result"
    }
   ],
   "source": [
    "mvbc.__version__"
   ]
  },
  {
   "cell_type": "code",
   "execution_count": 4,
   "metadata": {},
   "outputs": [],
   "source": [
    "# Global imports\n",
    "import os\n",
    "from pytz import utc\n",
    "from datetime import datetime\n",
    "\n",
    "# Import vub Meetenet Vlaamse Banken API functions\n",
    "from mvbc.config import Credentials\n",
    "from mvbc.client import Base\n",
    "from mvbc.objects import Catalog, Data\n",
    "import mvbc.data_getter as dg\n",
    "\n",
    "import warnings\n",
    "# Ignore all warnings\n",
    "warnings.filterwarnings(\"ignore\")"
   ]
  },
  {
   "cell_type": "code",
   "execution_count": 5,
   "metadata": {},
   "outputs": [
    {
     "data": {
      "text/plain": [
       "True"
      ]
     },
     "execution_count": 5,
     "metadata": {},
     "output_type": "execute_result"
    }
   ],
   "source": [
    "# This is only part of the development step, comment out if not developing!\n",
    "from dotenv import load_dotenv\n",
    "load_dotenv()"
   ]
  },
  {
   "cell_type": "code",
   "execution_count": 6,
   "metadata": {},
   "outputs": [],
   "source": [
    "mvbc_username = os.getenv('MEETNET_USERNAME') # Replace with your usernam\n",
    "mvbc_password = os.getenv('MEETNET_PASSWORD') # Replace with your password\n",
    "creds = Credentials(username=mvbc_username, password=mvbc_password)\n",
    "b=Base(creds)\n",
    "b.ping()\n",
    "\n",
    "c = Catalog(credentials=creds)\n",
    "df_unfiltered = c.data_points()"
   ]
  },
  {
   "cell_type": "code",
   "execution_count": 7,
   "metadata": {},
   "outputs": [],
   "source": [
    "# Get the data for a certain weather station by name!\n",
    "weather_station = 'Wandelaar'\n",
    "dt_start = datetime(2022,9,30,tzinfo=utc) # timestamp with timezone\n",
    "dt_end = datetime(2022,10,1,tzinfo=utc)\n",
    "weather_station_data = \\\n",
    "    dg.get_data_by_weatherstation(\n",
    "        weather_station,\n",
    "        dt_start,\n",
    "        dt_end,\n",
    "        creds,\n",
    "        df_unfiltered\n",
    "    )"
   ]
  },
  {
   "cell_type": "code",
   "execution_count": 8,
   "metadata": {},
   "outputs": [],
   "source": [
    "# Alternatively, if you you can get the data from the weather station closest to the location of interest\n",
    "dt_start = datetime(2022,9,30,tzinfo=utc) # timestamp with timezone\n",
    "dt_end = datetime(2022,10,1,tzinfo=utc)\n",
    "location = 'bbc01'\n",
    "location_of_interest = [2.81555595289144, 51.6918319416294]   # Replace this with location of interest\n",
    "\n",
    "df_weather, weatherstation_information, all_wetaherstations = dg.get_longterm_weather_data(location_of_interest, dt_start, dt_end, df=df_unfiltered, credentials=creds)\n",
    "df_weather = df_weather.resample('10T', axis=0).interpolate(method='linear', axis=0, limit=12)"
   ]
  },
  {
   "cell_type": "code",
   "execution_count": null,
   "metadata": {},
   "outputs": [],
   "source": []
  }
 ],
 "metadata": {
  "kernelspec": {
   "display_name": "dce_eov_norm",
   "language": "python",
   "name": "python3"
  },
  "language_info": {
   "codemirror_mode": {
    "name": "ipython",
    "version": 3
   },
   "file_extension": ".py",
   "mimetype": "text/x-python",
   "name": "python",
   "nbconvert_exporter": "python",
   "pygments_lexer": "ipython3",
   "version": "3.9.18"
  }
 },
 "nbformat": 4,
 "nbformat_minor": 2
}
