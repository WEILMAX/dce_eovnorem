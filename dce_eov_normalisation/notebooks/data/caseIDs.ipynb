{
 "cells": [
  {
   "cell_type": "code",
   "execution_count": 1,
   "metadata": {},
   "outputs": [],
   "source": [
    "%load_ext autoreload\n",
    "%autoreload 2"
   ]
  },
  {
   "cell_type": "code",
   "execution_count": 2,
   "metadata": {},
   "outputs": [],
   "source": [
    "#IMPORTS\n",
    "import numpy as np\n",
    "import os\n",
    "import matplotlib.pyplot as plt\n",
    "import os\n",
    "from owi_data_2_pandas.io import API\n",
    "import datetime\n",
    "from pytz import utc\n",
    "import pandas as pd\n",
    "import matplotlib.pyplot as plt\n",
    "from matplotlib.colors import ListedColormap\n",
    "\n",
    "import dotenv\n",
    "dotenv.load_dotenv()\n",
    "\n",
    "from dw_config.location import Turbine\n",
    "from dw_database.utils import DynawindFrame"
   ]
  },
  {
   "cell_type": "code",
   "execution_count": 3,
   "metadata": {},
   "outputs": [],
   "source": [
    "def get_big_data(start, end, owi_api, location, metrics, days=15):\n",
    "    new_start = start\n",
    "    all_data = pd.DataFrame()\n",
    "    middle = start + datetime.timedelta(days=days)\n",
    "    while end > middle:\n",
    "        data_ = owi_api.query((new_start, middle), location=location, metrics = metrics)\n",
    "        new_start = middle\n",
    "        middle = new_start + datetime.timedelta(days=days)\n",
    "        all_data = pd.concat([all_data, data_])\n",
    "    if end < middle:\n",
    "        data_ = owi_api.query((new_start, end), location=location, metrics = metrics)\n",
    "        all_data = pd.concat([all_data, data_])\n",
    "    duplicated_indices = all_data.index.duplicated(keep='first')\n",
    "    all_data_unique = all_data[~duplicated_indices]\n",
    "    return all_data_unique\n",
    "\n",
    "def rename_mpe_cols(data: pd.DataFrame, replcement:str = 'mode_'):\n",
    "    for col in data.columns:\n",
    "        if 'mpe_' in col:\n",
    "            data.rename(columns={col: col.replace('mpe_', replcement)}, inplace=True)\n",
    "    return data"
   ]
  },
  {
   "cell_type": "code",
   "execution_count": 4,
   "metadata": {},
   "outputs": [],
   "source": [
    "from owi_data_2_pandas.io import API\n",
    "\n",
    "# Get the turbine data through the API\n",
    "user = os.getenv('API_USERNAME') \n",
    "password = os.getenv('API_PASSWORD')\n",
    "root = r\"http://10.0.0.138/api/v1/\"\n",
    "\n",
    "\n",
    "owi_api = API(api_root=root, username=user, password=password)"
   ]
  },
  {
   "cell_type": "code",
   "execution_count": 5,
   "metadata": {},
   "outputs": [
    {
     "data": {
      "text/plain": [
       "'c:\\\\Users\\\\Max\\\\Documents\\\\OWI_LAB\\\\Code\\\\DCE_EOVnorm\\\\dce_eov_normalisation\\\\data'"
      ]
     },
     "execution_count": 5,
     "metadata": {},
     "output_type": "execute_result"
    }
   ],
   "source": [
    "# GET THE DATA\n",
    "package_folder = os.path.dirname(os.path.dirname(os.getcwd()))\n",
    "data_folder = os.path.join(package_folder, 'data')\n",
    "data_folder"
   ]
  },
  {
   "cell_type": "code",
   "execution_count": 6,
   "metadata": {},
   "outputs": [
    {
     "name": "stdout",
     "output_type": "stream",
     "text": [
      "nw2c02\n"
     ]
    }
   ],
   "source": [
    "start = datetime.datetime(2022, 10, 1, tzinfo=utc)\n",
    "end = datetime.datetime(2023, 12, 1, tzinfo=utc)\n",
    "\n",
    "new_data_folder = os.path.join(data_folder, 'raw', 'nw2')\n",
    "new_caseID_folder = os.path.join(data_folder, 'interim', 'nw2', 'labeled')\n",
    "\n",
    "for location in ['nw2c02']: #owi_api.groups[owi_api.groups.index == '4']['locations'][0]:\n",
    "    print(location)\n",
    "    metrics = owi_api.metrics(locations=location)\n",
    "    data = get_big_data(start, end, owi_api, location, metrics.metric, days=10)\n",
    "    \n",
    "    new_data_path = os.path.join(new_data_folder, location+'.parquet')\n",
    "    data.to_parquet(new_data_path)\n",
    "\n",
    "    data_renamed = rename_mpe_cols(data, replcement='mode_').drop('location', axis=1)\n",
    "    turbine = Turbine(location.upper())\n",
    "    dwf_ = DynawindFrame(df=data_renamed, location=turbine)\n",
    "    case_stats = dwf_.case_stats()\n",
    "    dwf_[['caseID']].to_csv(os.path.join(new_caseID_folder, 'caseIDs_Alexandra', location+'_caseIDs.csv'))\n",
    "    "
   ]
  },
  {
   "cell_type": "code",
   "execution_count": 20,
   "metadata": {},
   "outputs": [
    {
     "data": {
      "text/plain": [
       "timestamp\n",
       "2022-10-01 00:00:00+00:00                                                 None\n",
       "2022-10-01 00:10:00+00:00         Rated power: Turbine at rated power (9525kW)\n",
       "2022-10-01 00:20:00+00:00         Rated power: Turbine at rated power (9525kW)\n",
       "2022-10-01 00:30:00+00:00         Rated power: Turbine at rated power (9525kW)\n",
       "2022-10-01 00:40:00+00:00         Rated power: Turbine at rated power (9525kW)\n",
       "                                                   ...                        \n",
       "2023-11-30 23:20:00+00:00    Curtailed (All): Catchall for data points that...\n",
       "2023-11-30 23:30:00+00:00    Curtailed (All): Catchall for data points that...\n",
       "2023-11-30 23:40:00+00:00            rpm<Max: Turbine speeding up to rated RPM\n",
       "2023-11-30 23:50:00+00:00                  rpm6.6: Turbine rotating at 6.6 RPM\n",
       "2023-12-01 00:00:00+00:00            rpm<Max: Turbine speeding up to rated RPM\n",
       "Name: caseID, Length: 61292, dtype: object"
      ]
     },
     "execution_count": 20,
     "metadata": {},
     "output_type": "execute_result"
    }
   ],
   "source": [
    "dwf_[['caseID']].to_csv(os.path.join(data_folder, 'interim', 'nw2','labeled', location+'_case.csv'))"
   ]
  },
  {
   "cell_type": "code",
   "execution_count": null,
   "metadata": {},
   "outputs": [],
   "source": []
  }
 ],
 "metadata": {
  "kernelspec": {
   "display_name": "dce_eov_norm",
   "language": "python",
   "name": "python3"
  },
  "language_info": {
   "codemirror_mode": {
    "name": "ipython",
    "version": 3
   },
   "file_extension": ".py",
   "mimetype": "text/x-python",
   "name": "python",
   "nbconvert_exporter": "python",
   "pygments_lexer": "ipython3",
   "version": "3.9.18"
  }
 },
 "nbformat": 4,
 "nbformat_minor": 2
}
