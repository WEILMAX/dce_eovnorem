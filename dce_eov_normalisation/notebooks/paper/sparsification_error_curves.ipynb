{
 "cells": [
  {
   "cell_type": "code",
   "execution_count": 1,
   "metadata": {},
   "outputs": [],
   "source": [
    "%load_ext autoreload\n",
    "%autoreload 2"
   ]
  },
  {
   "cell_type": "code",
   "execution_count": 2,
   "metadata": {},
   "outputs": [],
   "source": [
    "#IMPORTS\n",
    "import numpy as np\n",
    "import os\n",
    "import pandas as pd\n",
    "import matplotlib.pyplot as plt\n",
    "import datetime"
   ]
  },
  {
   "cell_type": "code",
   "execution_count": 6,
   "metadata": {},
   "outputs": [],
   "source": [
    "loc = 'nw2'\n",
    "turbine = 'c02'\n",
    "\n",
    "# GET THE DATA\n",
    "package_folder = os.path.dirname(os.path.dirname(os.getcwd()))\n",
    "data_folder = os.path.join(package_folder, 'data')\n",
    "models_folder = os.path.join(package_folder, 'models')\n",
    "ss2_selected = pd.read_csv(os.path.join(data_folder, 'processed','nw2', turbine+'_ss2_selected_data_large.csv'))\n",
    "ss2_selected['timestamp'] = pd.to_datetime(ss2_selected['timestamp'])\n",
    "ss2_selected.set_index('timestamp', inplace=True)\n",
    "\n",
    "SS1_dbscan = pd.read_parquet(os.path.join(data_folder, 'interim',loc,'tracked_modes', 'dbscan_based', loc+turbine+'_SS1_mode.parquet'))\n",
    "SS2_dbscan = pd.read_parquet(os.path.join(data_folder, 'interim',loc,'tracked_modes', 'dbscan_based', loc+turbine+'_SS2_mode.parquet'))\n",
    "FA1_dbscan = pd.read_parquet(os.path.join(data_folder, 'interim',loc,'tracked_modes', 'dbscan_based', loc+turbine+'_FA1_mode.parquet'))\n",
    "FA2_dbscan = pd.read_parquet(os.path.join(data_folder, 'interim',loc,'tracked_modes', 'dbscan_based', loc+turbine+'_FA2_mode.parquet'))\n",
    "\n",
    "rfe_selected_data = pd.read_parquet(os.path.join(data_folder, 'interim', loc, 'rfe_selected_data', loc+turbine+'_rfe_selected_data.parquet'))"
   ]
  },
  {
   "cell_type": "markdown",
   "metadata": {},
   "source": [
    "# SS1"
   ]
  },
  {
   "cell_type": "code",
   "execution_count": 12,
   "metadata": {},
   "outputs": [],
   "source": [
    "X = rfe_selected_data.copy()\n",
    "y = SS1_dbscan\n",
    "\n",
    "#preprocess\n",
    "from src.data.preprocessing import sin_cos_angle_inputs\n",
    "X = sin_cos_angle_inputs(X)\n",
    "common_indices_Xy = X.index.intersection(y.index)\n",
    "X = X.loc[common_indices_Xy]\n",
    "y = y.loc[common_indices_Xy]\n",
    "\n",
    "# Split in training and testing data\n",
    "from sklearn.model_selection import train_test_split\n",
    "X_train, "
   ]
  },
  {
   "cell_type": "code",
   "execution_count": 11,
   "metadata": {},
   "outputs": [
    {
     "data": {
      "text/plain": [
       "Index(['mvbc_WandelaarBuoy_10%_highest_waves',\n",
       "       'mvbc_WandelaarBuoy_Wave_height',\n",
       "       'mvbc_WandelaarBuoy_Sea_water_temperature',\n",
       "       'mvbc_WandelaarMeasuringpile_Tide_TAW',\n",
       "       'mvbc_WandelaarMeasuringpile_Air_pressure', 'mean_NW2_C02_rpm',\n",
       "       'mean_NW2_C02_pitch', 'mean_NW2_C02_power', 'sin_mean_NW2_C02_yaw',\n",
       "       'cos_mean_NW2_C02_yaw', 'sin_mean_NW2_C02_winddirection',\n",
       "       'cos_mean_NW2_C02_winddirection'],\n",
       "      dtype='object')"
      ]
     },
     "execution_count": 11,
     "metadata": {},
     "output_type": "execute_result"
    }
   ],
   "source": [
    "X.columns"
   ]
  },
  {
   "cell_type": "code",
   "execution_count": null,
   "metadata": {},
   "outputs": [],
   "source": []
  },
  {
   "cell_type": "code",
   "execution_count": null,
   "metadata": {},
   "outputs": [],
   "source": [
    "from catboost import CatBoostRegressor\n",
    "\n",
    "regr_model = CatBoostRegressor(\n",
    "    iterations=2000,\n",
    "    depth=3,\n",
    "    learning_rate=0.05,\n",
    "    l2_leaf_reg=3,\n",
    "    random_seed=0,\n",
    "    posterior_sampling=True,\n",
    "    loss_function='RMSEWithUncertainty',\n",
    "    verbose=False)\n",
    "\n",
    "regr_model = CatBoostRegressor(posterior_sampling=True, loss_function='RMSEWithUncertainty', verbose=False)\n",
    "regr_model.fit(X_train, y_train)\n",
    "\n",
    "plt.figure(figsize=(30,5))\n",
    "plt.bar(regr_model.feature_names_, regr_model.feature_importances_)\n",
    "plt.xticks(rotation=90)\n",
    "plt.show()\n",
    "plt.close()"
   ]
  }
 ],
 "metadata": {
  "kernelspec": {
   "display_name": "dce_eov_norm",
   "language": "python",
   "name": "python3"
  },
  "language_info": {
   "codemirror_mode": {
    "name": "ipython",
    "version": 3
   },
   "file_extension": ".py",
   "mimetype": "text/x-python",
   "name": "python",
   "nbconvert_exporter": "python",
   "pygments_lexer": "ipython3",
   "version": "3.11.5"
  }
 },
 "nbformat": 4,
 "nbformat_minor": 2
}
