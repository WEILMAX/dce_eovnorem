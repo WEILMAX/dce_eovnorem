{
 "cells": [
  {
   "cell_type": "code",
   "execution_count": 2,
   "metadata": {},
   "outputs": [],
   "source": [
    "%load_ext autoreload\n",
    "%autoreload 2"
   ]
  },
  {
   "cell_type": "code",
   "execution_count": 3,
   "metadata": {},
   "outputs": [],
   "source": [
    "#IMPORTS\n",
    "import os\n",
    "import pandas as pd\n"
   ]
  },
  {
   "cell_type": "code",
   "execution_count": 4,
   "metadata": {},
   "outputs": [],
   "source": [
    "loc = 'nw2'\n",
    "turbine = 'c02'"
   ]
  },
  {
   "cell_type": "code",
   "execution_count": 5,
   "metadata": {},
   "outputs": [],
   "source": [
    "# GET THE DATA\n",
    "package_folder = os.path.dirname(os.path.dirname(os.getcwd()))\n",
    "data_folder = os.path.join(package_folder, 'data')\n",
    "ss2_selected = pd.read_csv(os.path.join(data_folder, 'processed','nw2', turbine+'_ss2_selected_data_large.csv'))\n",
    "SS1_dbscan = pd.read_parquet(os.path.join(data_folder, 'interim',loc,'tracked_modes', 'dbscan_based', loc+turbine+'_SS1_mode.parquet'))\n",
    "SS2_dbscan = pd.read_parquet(os.path.join(data_folder, 'interim',loc,'tracked_modes', 'dbscan_based', loc+turbine+'_SS2_mode.parquet'))\n",
    "FA1_dbscan = pd.read_parquet(os.path.join(data_folder, 'interim',loc,'tracked_modes', 'dbscan_based', loc+turbine+'_FA1_mode.parquet'))\n",
    "FA2_dbscan = pd.read_parquet(os.path.join(data_folder, 'interim',loc,'tracked_modes', 'dbscan_based', loc+turbine+'_FA2_mode.parquet'))"
   ]
  },
  {
   "cell_type": "code",
   "execution_count": 6,
   "metadata": {},
   "outputs": [],
   "source": [
    "from src.data.utils import get_input_data\n",
    "from src.data.harmonics import *\n",
    "\n",
    "data = get_input_data(data_folder, loc, turbine)\n",
    "harmonics_data = harmonics(data['turbine_data'].filter(regex='rpm'), [1,3,6, 9])\n",
    "\n",
    "test_data_path = '_'.join([loc, turbine, 'SS2', 'test_data.parquet'])\n",
    "test_turbine_data = pd.read_parquet(os.path.join(data_folder, 'raw', loc, test_data_path))\n",
    "#remove duplicated index\n",
    "duplicated_indices = test_turbine_data.index.duplicated(keep='first')\n",
    "test_turbine_data = test_turbine_data[~duplicated_indices]\n",
    "test_turbine_data.index = pd.to_datetime(test_turbine_data.index, utc=True)\n",
    "\n",
    "wandelaar_weather_station_data = pd.read_parquet(os.path.join(data_folder,'external', loc, 'test_wandelaar_weather_data.parquet'))\n",
    "westhinder_weather_station_data = pd.read_parquet(os.path.join(data_folder,'external', loc, 'test_westhinder_weather_data.parquet'))\n",
    "\n",
    "mvbc_test_data = wandelaar_weather_station_data.copy()\n",
    "mvbc_test_data[mvbc_test_data.filter(regex='Tide').columns] = westhinder_weather_station_data.filter(regex='Tide').values\n",
    "#mvbc_test_data.rename(columns={mvbc_test_data.filter(regex='Tide').columns[0] :westhinder_weather_station_data.filter(regex='Tide').columns[0]}, inplace=True)\n",
    "mvbc_test_data.isna().sum()\n",
    "mvbc_test_data.index = pd.to_datetime(mvbc_test_data.index, utc=True)"
   ]
  },
  {
   "cell_type": "code",
   "execution_count": 7,
   "metadata": {},
   "outputs": [
    {
     "data": {
      "text/plain": [
       "mean_NW2_C02_rpm              0.972362\n",
       "mean_NW2_C02_yaw              0.972362\n",
       "mean_NW2_C02_pitch            0.972362\n",
       "mean_NW2_C02_power            0.972362\n",
       "mean_NW2_C02_windspeed        0.972362\n",
       "mean_NW2_C02_winddirection    0.972362\n",
       "dtype: float64"
      ]
     },
     "execution_count": 7,
     "metadata": {},
     "output_type": "execute_result"
    }
   ],
   "source": [
    "scada_data = data['turbine_data'].filter(regex='mean_').filter(regex='rpm|yaw|pitch|power|windspeed|winddirection')\n",
    "1 - scada_data.isna().sum()/len(scada_data)"
   ]
  },
  {
   "cell_type": "code",
   "execution_count": 8,
   "metadata": {},
   "outputs": [
    {
     "data": {
      "text/plain": [
       "mvbc_WandelaarBuoy_10%_highest_waves                                    1.000000\n",
       "mvbc_WandelaarBuoy_Wave_height                                          1.000000\n",
       "mvbc_WandelaarBuoy_Average_wave_period                                  1.000000\n",
       "mvbc_WandelaarBuoy_Height_waves_with_period_>_10_s                      1.000000\n",
       "mvbc_WandelaarBuoy_Sea_water_temperature                                0.937501\n",
       "mvbc_WandelaarMeasuringpile_Max_3-seconds_wind_gust_(at_10_m_height)    0.999967\n",
       "mvbc_WandelaarMeasuringpile_Average_wind_direction                      1.000000\n",
       "mvbc_WandelaarMeasuringpile_Average_wind_speed_(at_10_m_height)         0.999967\n",
       "mvbc_WandelaarMeasuringpile_Tide_TAW                                    0.992893\n",
       "mvbc_WandelaarMeasuringpile_Relative_humidity                           0.783976\n",
       "mvbc_WandelaarMeasuringpile_Air_pressure                                0.999609\n",
       "mvbc_WandelaarMeasuringpile_Air_temperature                             1.000000\n",
       "mvbc_WandelaarBuoy_1%_wave_height                                       0.135088\n",
       "dtype: float64"
      ]
     },
     "execution_count": 8,
     "metadata": {},
     "output_type": "execute_result"
    }
   ],
   "source": [
    "mvbc_data = pd.concat([data['mvbc_data'], mvbc_test_data], axis=0)\n",
    "mvbc_data = mvbc_data[~mvbc_data.index.duplicated(keep='first')]\n",
    "1 - mvbc_data.isna().sum()/len(mvbc_data)"
   ]
  },
  {
   "cell_type": "code",
   "execution_count": 9,
   "metadata": {},
   "outputs": [],
   "source": [
    "from sklearn.model_selection import train_test_split\n",
    "X_ = pd.concat([mvbc_data, scada_data], axis=1)\n",
    "#only keep columns of X with 90% or more non-nan values\n",
    "X_ = X_.loc[:, X_.isna().sum()/len(X_) < 0.1]\n",
    "\n",
    "y_ = SS2_dbscan['mean_frequency']\n",
    "#X_train, X_test, y_train, y_test = train_test_split(X, y, test_size=0.2, random_state=42)"
   ]
  },
  {
   "cell_type": "code",
   "execution_count": 10,
   "metadata": {},
   "outputs": [],
   "source": [
    "Xy = pd.DataFrame(y_)\n",
    "for col in X_.columns:\n",
    "    Xy[col] = X_[col]\n",
    "Xy = Xy.dropna()\n",
    "y = Xy[y_.name]\n",
    "X = Xy[X_.columns]\n",
    "X_train, X_test, y_train, y_test = train_test_split(X, y, test_size=0.2, random_state=42)"
   ]
  },
  {
   "cell_type": "code",
   "execution_count": 11,
   "metadata": {},
   "outputs": [
    {
     "name": "stdout",
     "output_type": "stream",
     "text": [
      "Selected features: [ True  True  True False  True False False False  True  True  True  True\n",
      "  True  True  True  True  True]\n",
      "Feature ranking: [1 1 1 4 1 5 2 3 1 1 1 1 1 1 1 1 1]\n"
     ]
    }
   ],
   "source": [
    "from xgboost import XGBRegressor\n",
    "from sklearn.feature_selection import RFE\n",
    "regr_model = XGBRegressor()\n",
    "selector = RFE(regr_model, n_features_to_select=13)  # Adjust the number of features\n",
    "selector = selector.fit(X, y)\n",
    "\n",
    "selected_features = selector.support_\n",
    "ranking = selector.ranking_\n",
    "\n",
    "print(\"Selected features:\", selected_features)\n",
    "print(\"Feature ranking:\", ranking)"
   ]
  },
  {
   "cell_type": "code",
   "execution_count": 12,
   "metadata": {},
   "outputs": [
    {
     "data": {
      "text/plain": [
       "53844"
      ]
     },
     "execution_count": 12,
     "metadata": {},
     "output_type": "execute_result"
    }
   ],
   "source": [
    "len(SS1_dbscan['mean_frequency'])\n"
   ]
  },
  {
   "cell_type": "code",
   "execution_count": 13,
   "metadata": {},
   "outputs": [
    {
     "name": "stdout",
     "output_type": "stream",
     "text": [
      "50768\n",
      "Availability:  0.827581710000815\n"
     ]
    }
   ],
   "source": [
    "y_unique = y[~y.index.duplicated(keep='first')]\n",
    "print(len(y_unique))\n",
    "print('Availability: ', len(y_unique)/len(X_))"
   ]
  },
  {
   "cell_type": "code",
   "execution_count": 16,
   "metadata": {},
   "outputs": [
    {
     "name": "stdout",
     "output_type": "stream",
     "text": [
      "Availability:  0.917466786209145\n",
      "Selected features: Index(['mvbc_WandelaarBuoy_10%_highest_waves',\n",
      "       'mvbc_WandelaarBuoy_Wave_height',\n",
      "       'mvbc_WandelaarBuoy_Average_wave_period',\n",
      "       'mvbc_WandelaarBuoy_Sea_water_temperature',\n",
      "       'mvbc_WandelaarMeasuringpile_Tide_TAW',\n",
      "       'mvbc_WandelaarMeasuringpile_Air_temperature', 'mean_NW2_C02_rpm',\n",
      "       'mean_NW2_C02_yaw', 'mean_NW2_C02_pitch', 'mean_NW2_C02_power',\n",
      "       'mean_NW2_C02_windspeed', 'mean_NW2_C02_winddirection'],\n",
      "      dtype='object')\n",
      "Removed features:  Index(['mvbc_WandelaarBuoy_Height_waves_with_period_>_10_s',\n",
      "       'mvbc_WandelaarMeasuringpile_Max_3-seconds_wind_gust_(at_10_m_height)',\n",
      "       'mvbc_WandelaarMeasuringpile_Average_wind_direction',\n",
      "       'mvbc_WandelaarMeasuringpile_Average_wind_speed_(at_10_m_height)',\n",
      "       'mvbc_WandelaarMeasuringpile_Air_pressure'],\n",
      "      dtype='object')\n",
      "Feature ranking: [1 1 1 5 1 6 3 4 1 2 1 1 1 1 1 1 1]\n",
      "ordered features:  Index(['mvbc_WandelaarBuoy_10%_highest_waves', 'mean_NW2_C02_power',\n",
      "       'mean_NW2_C02_pitch', 'mean_NW2_C02_yaw', 'mean_NW2_C02_rpm',\n",
      "       'mvbc_WandelaarMeasuringpile_Air_temperature', 'mean_NW2_C02_windspeed',\n",
      "       'mvbc_WandelaarMeasuringpile_Tide_TAW',\n",
      "       'mvbc_WandelaarBuoy_Sea_water_temperature',\n",
      "       'mvbc_WandelaarBuoy_Average_wave_period',\n",
      "       'mvbc_WandelaarBuoy_Wave_height', 'mean_NW2_C02_winddirection',\n",
      "       'mvbc_WandelaarMeasuringpile_Air_pressure',\n",
      "       'mvbc_WandelaarMeasuringpile_Average_wind_direction',\n",
      "       'mvbc_WandelaarMeasuringpile_Average_wind_speed_(at_10_m_height)',\n",
      "       'mvbc_WandelaarBuoy_Height_waves_with_period_>_10_s',\n",
      "       'mvbc_WandelaarMeasuringpile_Max_3-seconds_wind_gust_(at_10_m_height)'],\n",
      "      dtype='object')\n"
     ]
    }
   ],
   "source": [
    "from sklearn.model_selection import train_test_split\n",
    "X_ = pd.concat([mvbc_data, scada_data], axis=1)\n",
    "#only keep columns of X with 90% or more non-nan values\n",
    "X_ = X_.loc[:, X_.isna().sum()/len(X_) < 0.1]\n",
    "\n",
    "y_ = SS2_dbscan['mean_frequency']\n",
    "#X_train, X_test, y_train, y_test = train_test_split(X, y, test_size=0.2, random_state=42)\n",
    "\n",
    "Xy = pd.DataFrame(y_)\n",
    "for col in X_.columns:\n",
    "    Xy[col] = X_[col]\n",
    "Xy = Xy.dropna()\n",
    "y = Xy[y_.name]\n",
    "X = Xy[X_.columns]\n",
    "X_train, X_test, y_train, y_test = train_test_split(X, y, test_size=0.2, random_state=42)\n",
    "\n",
    "y_unique = y_[~y_.index.duplicated(keep='first')].dropna()\n",
    "print('Availability: ', len(y_unique)/len(X_))\n",
    "\n",
    "from xgboost import XGBRegressor\n",
    "from sklearn.feature_selection import RFE\n",
    "regr_model = XGBRegressor()\n",
    "selector = RFE(regr_model, n_features_to_select=12)  # Adjust the number of features\n",
    "selector = selector.fit(X, y)\n",
    "\n",
    "selected_features = selector.support_\n",
    "ranking = selector.ranking_\n",
    "\n",
    "print(\"Selected features:\", X.columns[selected_features])\n",
    "print(\"Removed features: \", X.columns[~selected_features])\n",
    "print(\"Feature ranking:\", ranking)\n",
    "print('ordered features: ', X.columns[ranking.argsort()])"
   ]
  },
  {
   "cell_type": "code",
   "execution_count": 17,
   "metadata": {},
   "outputs": [
    {
     "name": "stdout",
     "output_type": "stream",
     "text": [
      "Availability:  0.8705680984595322\n",
      "Selected features: Index(['mvbc_WandelaarBuoy_10%_highest_waves',\n",
      "       'mvbc_WandelaarBuoy_Wave_height',\n",
      "       'mvbc_WandelaarBuoy_Average_wave_period',\n",
      "       'mvbc_WandelaarBuoy_Sea_water_temperature',\n",
      "       'mvbc_WandelaarMeasuringpile_Tide_TAW',\n",
      "       'mvbc_WandelaarMeasuringpile_Air_temperature', 'mean_NW2_C02_rpm',\n",
      "       'mean_NW2_C02_yaw', 'mean_NW2_C02_pitch', 'mean_NW2_C02_power',\n",
      "       'mean_NW2_C02_windspeed', 'mean_NW2_C02_winddirection'],\n",
      "      dtype='object')\n",
      "Removed features:  Index(['mvbc_WandelaarBuoy_Height_waves_with_period_>_10_s',\n",
      "       'mvbc_WandelaarMeasuringpile_Max_3-seconds_wind_gust_(at_10_m_height)',\n",
      "       'mvbc_WandelaarMeasuringpile_Average_wind_direction',\n",
      "       'mvbc_WandelaarMeasuringpile_Average_wind_speed_(at_10_m_height)',\n",
      "       'mvbc_WandelaarMeasuringpile_Air_pressure'],\n",
      "      dtype='object')\n",
      "Feature ranking: [1 1 1 4 1 5 3 6 1 2 1 1 1 1 1 1 1]\n",
      "ordered features:  Index(['mvbc_WandelaarBuoy_10%_highest_waves', 'mean_NW2_C02_power',\n",
      "       'mean_NW2_C02_pitch', 'mean_NW2_C02_yaw', 'mean_NW2_C02_rpm',\n",
      "       'mvbc_WandelaarMeasuringpile_Air_temperature', 'mean_NW2_C02_windspeed',\n",
      "       'mvbc_WandelaarMeasuringpile_Tide_TAW',\n",
      "       'mvbc_WandelaarBuoy_Sea_water_temperature',\n",
      "       'mvbc_WandelaarBuoy_Average_wave_period',\n",
      "       'mvbc_WandelaarBuoy_Wave_height', 'mean_NW2_C02_winddirection',\n",
      "       'mvbc_WandelaarMeasuringpile_Air_pressure',\n",
      "       'mvbc_WandelaarMeasuringpile_Average_wind_direction',\n",
      "       'mvbc_WandelaarBuoy_Height_waves_with_period_>_10_s',\n",
      "       'mvbc_WandelaarMeasuringpile_Max_3-seconds_wind_gust_(at_10_m_height)',\n",
      "       'mvbc_WandelaarMeasuringpile_Average_wind_speed_(at_10_m_height)'],\n",
      "      dtype='object')\n"
     ]
    }
   ],
   "source": [
    "from sklearn.model_selection import train_test_split\n",
    "X_ = pd.concat([mvbc_data, scada_data], axis=1)\n",
    "#only keep columns of X with 90% or more non-nan values\n",
    "X_ = X_.loc[:, X_.isna().sum()/len(X_) < 0.1]\n",
    "\n",
    "y_ = SS1_dbscan['mean_frequency']\n",
    "#X_train, X_test, y_train, y_test = train_test_split(X, y, test_size=0.2, random_state=42)\n",
    "\n",
    "Xy = pd.DataFrame(y_)\n",
    "for col in X_.columns:\n",
    "    Xy[col] = X_[col]\n",
    "Xy = Xy.dropna()\n",
    "y = Xy[y_.name]\n",
    "X = Xy[X_.columns]\n",
    "X_train, X_test, y_train, y_test = train_test_split(X, y, test_size=0.2, random_state=42)\n",
    "\n",
    "y_unique = y_[~y_.index.duplicated(keep='first')].dropna()\n",
    "print('Availability: ', len(y_unique)/len(X_))\n",
    "\n",
    "from xgboost import XGBRegressor\n",
    "from sklearn.feature_selection import RFE\n",
    "regr_model = XGBRegressor()\n",
    "selector = RFE(regr_model, n_features_to_select=12)  # Adjust the number of features\n",
    "selector = selector.fit(X, y)\n",
    "\n",
    "selected_features = selector.support_\n",
    "ranking = selector.ranking_\n",
    "\n",
    "print(\"Selected features:\", X.columns[selected_features])\n",
    "print(\"Removed features: \", X.columns[~selected_features])\n",
    "print(\"Feature ranking:\", ranking)\n",
    "print('ordered features: ', X.columns[ranking.argsort()])"
   ]
  },
  {
   "cell_type": "code",
   "execution_count": 20,
   "metadata": {},
   "outputs": [
    {
     "name": "stdout",
     "output_type": "stream",
     "text": [
      "Availability:  0.8705680984595322\n",
      "Selected features: Index(['mvbc_WandelaarBuoy_10%_highest_waves',\n",
      "       'mvbc_WandelaarBuoy_Wave_height',\n",
      "       'mvbc_WandelaarBuoy_Average_wave_period',\n",
      "       'mvbc_WandelaarBuoy_Sea_water_temperature',\n",
      "       'mvbc_WandelaarMeasuringpile_Tide_TAW',\n",
      "       'mvbc_WandelaarMeasuringpile_Air_temperature', 'mean_NW2_C02_rpm',\n",
      "       'mean_NW2_C02_yaw', 'mean_NW2_C02_pitch', 'mean_NW2_C02_power',\n",
      "       'mean_NW2_C02_windspeed', 'mean_NW2_C02_winddirection'],\n",
      "      dtype='object')\n",
      "Removed features:  Index(['mvbc_WandelaarBuoy_Height_waves_with_period_>_10_s',\n",
      "       'mvbc_WandelaarMeasuringpile_Max_3-seconds_wind_gust_(at_10_m_height)',\n",
      "       'mvbc_WandelaarMeasuringpile_Average_wind_direction',\n",
      "       'mvbc_WandelaarMeasuringpile_Average_wind_speed_(at_10_m_height)',\n",
      "       'mvbc_WandelaarMeasuringpile_Air_pressure'],\n",
      "      dtype='object')\n",
      "Feature ranking: [1 1 1 4 1 5 3 6 1 2 1 1 1 1 1 1 1]\n",
      "ordered features:  Index(['mvbc_WandelaarBuoy_10%_highest_waves', 'mean_NW2_C02_power',\n",
      "       'mean_NW2_C02_pitch', 'mean_NW2_C02_yaw', 'mean_NW2_C02_rpm',\n",
      "       'mvbc_WandelaarMeasuringpile_Air_temperature', 'mean_NW2_C02_windspeed',\n",
      "       'mvbc_WandelaarMeasuringpile_Tide_TAW',\n",
      "       'mvbc_WandelaarBuoy_Sea_water_temperature',\n",
      "       'mvbc_WandelaarBuoy_Average_wave_period',\n",
      "       'mvbc_WandelaarBuoy_Wave_height', 'mean_NW2_C02_winddirection',\n",
      "       'mvbc_WandelaarMeasuringpile_Air_pressure',\n",
      "       'mvbc_WandelaarMeasuringpile_Average_wind_direction',\n",
      "       'mvbc_WandelaarBuoy_Height_waves_with_period_>_10_s',\n",
      "       'mvbc_WandelaarMeasuringpile_Max_3-seconds_wind_gust_(at_10_m_height)',\n",
      "       'mvbc_WandelaarMeasuringpile_Average_wind_speed_(at_10_m_height)'],\n",
      "      dtype='object')\n"
     ]
    }
   ],
   "source": [
    "from sklearn.model_selection import train_test_split\n",
    "X_ = pd.concat([mvbc_data, scada_data], axis=1)\n",
    "#only keep columns of X with 90% or more non-nan values\n",
    "X_ = X_.loc[:, X_.isna().sum()/len(X_) < 0.1]\n",
    "\n",
    "y_ = SS1_dbscan['mean_frequency']\n",
    "#X_train, X_test, y_train, y_test = train_test_split(X, y, test_size=0.2, random_state=42)\n",
    "\n",
    "Xy = pd.DataFrame(y_)\n",
    "for col in X_.columns:\n",
    "    Xy[col] = X_[col]\n",
    "Xy = Xy.dropna()\n",
    "y = Xy[y_.name]\n",
    "X = Xy[X_.columns]\n",
    "X_train, X_test, y_train, y_test = train_test_split(X, y, test_size=0.2, random_state=42)\n",
    "\n",
    "y_unique = y_[~y_.index.duplicated(keep='first')].dropna()\n",
    "print('Availability: ', len(y_unique)/len(X_))\n",
    "\n",
    "from xgboost import XGBRegressor\n",
    "from sklearn.feature_selection import RFE\n",
    "regr_model = XGBRegressor()\n",
    "selector = RFE(regr_model, n_features_to_select=12)  # Adjust the number of features\n",
    "selector = selector.fit(X, y)\n",
    "\n",
    "selected_features = selector.support_\n",
    "ranking = selector.ranking_\n",
    "\n",
    "print(\"Selected features:\", X.columns[selected_features])\n",
    "print(\"Removed features: \", X.columns[~selected_features])\n",
    "print(\"Feature ranking:\", ranking)\n",
    "print('ordered features: ', X.columns[ranking.argsort()])\n",
    "\n",
    "selected_data = X_[X.columns[selected_features]]\n",
    "selected_data.to_parquet(os.path.join(data_folder, 'interim', loc, 'rfe_selected_data', loc+turbine+'_rfe_selected_data.parquet'))"
   ]
  },
  {
   "cell_type": "code",
   "execution_count": 18,
   "metadata": {},
   "outputs": [
    {
     "name": "stdout",
     "output_type": "stream",
     "text": [
      "Availability:  0.8705680984595322\n",
      "Selected features: Index(['mvbc_WandelaarBuoy_10%_highest_waves',\n",
      "       'mvbc_WandelaarBuoy_Wave_height',\n",
      "       'mvbc_WandelaarBuoy_Average_wave_period',\n",
      "       'mvbc_WandelaarBuoy_Sea_water_temperature',\n",
      "       'mvbc_WandelaarMeasuringpile_Tide_TAW',\n",
      "       'mvbc_WandelaarMeasuringpile_Air_temperature', 'mean_NW2_C02_rpm',\n",
      "       'mean_NW2_C02_yaw', 'mean_NW2_C02_pitch', 'mean_NW2_C02_power',\n",
      "       'mean_NW2_C02_windspeed', 'mean_NW2_C02_winddirection'],\n",
      "      dtype='object')\n",
      "Removed features:  Index(['mvbc_WandelaarBuoy_Height_waves_with_period_>_10_s',\n",
      "       'mvbc_WandelaarMeasuringpile_Max_3-seconds_wind_gust_(at_10_m_height)',\n",
      "       'mvbc_WandelaarMeasuringpile_Average_wind_direction',\n",
      "       'mvbc_WandelaarMeasuringpile_Average_wind_speed_(at_10_m_height)',\n",
      "       'mvbc_WandelaarMeasuringpile_Air_pressure'],\n",
      "      dtype='object')\n",
      "Feature ranking: [1 1 1 4 1 5 3 6 1 2 1 1 1 1 1 1 1]\n",
      "ordered features:  Index(['mvbc_WandelaarBuoy_10%_highest_waves', 'mean_NW2_C02_power',\n",
      "       'mean_NW2_C02_pitch', 'mean_NW2_C02_yaw', 'mean_NW2_C02_rpm',\n",
      "       'mvbc_WandelaarMeasuringpile_Air_temperature', 'mean_NW2_C02_windspeed',\n",
      "       'mvbc_WandelaarMeasuringpile_Tide_TAW',\n",
      "       'mvbc_WandelaarBuoy_Sea_water_temperature',\n",
      "       'mvbc_WandelaarBuoy_Average_wave_period',\n",
      "       'mvbc_WandelaarBuoy_Wave_height', 'mean_NW2_C02_winddirection',\n",
      "       'mvbc_WandelaarMeasuringpile_Air_pressure',\n",
      "       'mvbc_WandelaarMeasuringpile_Average_wind_direction',\n",
      "       'mvbc_WandelaarBuoy_Height_waves_with_period_>_10_s',\n",
      "       'mvbc_WandelaarMeasuringpile_Max_3-seconds_wind_gust_(at_10_m_height)',\n",
      "       'mvbc_WandelaarMeasuringpile_Average_wind_speed_(at_10_m_height)'],\n",
      "      dtype='object')\n"
     ]
    }
   ],
   "source": [
    "from sklearn.model_selection import train_test_split\n",
    "X_ = pd.concat([mvbc_data, scada_data], axis=1)\n",
    "#only keep columns of X with 90% or more non-nan values\n",
    "X_ = X_.loc[:, X_.isna().sum()/len(X_) < 0.1]\n",
    "\n",
    "y_ = SS1_dbscan['mean_frequency']\n",
    "#X_train, X_test, y_train, y_test = train_test_split(X, y, test_size=0.2, random_state=42)\n",
    "\n",
    "Xy = pd.DataFrame(y_)\n",
    "for col in X_.columns:\n",
    "    Xy[col] = X_[col]\n",
    "Xy = Xy.dropna()\n",
    "y = Xy[y_.name]\n",
    "X = Xy[X_.columns]\n",
    "X_train, X_test, y_train, y_test = train_test_split(X, y, test_size=0.2, random_state=42)\n",
    "\n",
    "y_unique = y_[~y_.index.duplicated(keep='first')].dropna()\n",
    "print('Availability: ', len(y_unique)/len(X_))\n",
    "\n",
    "from xgboost import XGBRegressor\n",
    "from sklearn.feature_selection import RFE\n",
    "regr_model = XGBRegressor()\n",
    "selector = RFE(regr_model, n_features_to_select=12)  # Adjust the number of features\n",
    "selector = selector.fit(X, y)\n",
    "\n",
    "selected_features = selector.support_\n",
    "ranking = selector.ranking_\n",
    "\n",
    "print(\"Selected features:\", X.columns[selected_features])\n",
    "print(\"Removed features: \", X.columns[~selected_features])\n",
    "print(\"Feature ranking:\", ranking)\n",
    "print('ordered features: ', X.columns[ranking.argsort()])\n",
    "\n",
    "selected_data = X_[X.columns[selected_features]]\n",
    "selected_data.to_parquet(os.path.join(data_folder, 'interim', loc, 'rfe_selected_data', loc+turbine+'_rfe_selected_data.parquet'))"
   ]
  },
  {
   "cell_type": "code",
   "execution_count": 40,
   "metadata": {},
   "outputs": [],
   "source": []
  },
  {
   "cell_type": "code",
   "execution_count": 35,
   "metadata": {},
   "outputs": [
    {
     "name": "stdout",
     "output_type": "stream",
     "text": [
      "Availability:  0.040427092672589454\n",
      "Selected features: Index(['mvbc_WandelaarBuoy_10%_highest_waves',\n",
      "       'mvbc_WandelaarBuoy_Wave_height',\n",
      "       'mvbc_WandelaarBuoy_Average_wave_period',\n",
      "       'mvbc_WandelaarBuoy_Sea_water_temperature',\n",
      "       'mvbc_WandelaarMeasuringpile_Tide_TAW',\n",
      "       'mvbc_WandelaarMeasuringpile_Air_pressure',\n",
      "       'mvbc_WandelaarMeasuringpile_Air_temperature', 'mean_NW2_C02_rpm',\n",
      "       'mean_NW2_C02_yaw', 'mean_NW2_C02_pitch', 'mean_NW2_C02_power',\n",
      "       'mean_NW2_C02_windspeed', 'mean_NW2_C02_winddirection'],\n",
      "      dtype='object')\n",
      "Removed features:  Index(['mvbc_WandelaarBuoy_Height_waves_with_period_>_10_s',\n",
      "       'mvbc_WandelaarMeasuringpile_Max_3-seconds_wind_gust_(at_10_m_height)',\n",
      "       'mvbc_WandelaarMeasuringpile_Average_wind_direction',\n",
      "       'mvbc_WandelaarMeasuringpile_Average_wind_speed_(at_10_m_height)'],\n",
      "      dtype='object')\n",
      "Feature ranking: [1 1 1 4 1 5 2 3 1 1 1 1 1 1 1 1 1]\n",
      "ordered features:  Index(['mvbc_WandelaarBuoy_10%_highest_waves', 'mean_NW2_C02_power',\n",
      "       'mean_NW2_C02_pitch', 'mean_NW2_C02_yaw', 'mean_NW2_C02_rpm',\n",
      "       'mvbc_WandelaarMeasuringpile_Air_temperature',\n",
      "       'mvbc_WandelaarMeasuringpile_Air_pressure', 'mean_NW2_C02_windspeed',\n",
      "       'mvbc_WandelaarMeasuringpile_Tide_TAW',\n",
      "       'mvbc_WandelaarBuoy_Sea_water_temperature',\n",
      "       'mvbc_WandelaarBuoy_Average_wave_period',\n",
      "       'mvbc_WandelaarBuoy_Wave_height', 'mean_NW2_C02_winddirection',\n",
      "       'mvbc_WandelaarMeasuringpile_Average_wind_direction',\n",
      "       'mvbc_WandelaarMeasuringpile_Average_wind_speed_(at_10_m_height)',\n",
      "       'mvbc_WandelaarBuoy_Height_waves_with_period_>_10_s',\n",
      "       'mvbc_WandelaarMeasuringpile_Max_3-seconds_wind_gust_(at_10_m_height)'],\n",
      "      dtype='object')\n"
     ]
    }
   ],
   "source": [
    "from sklearn.model_selection import train_test_split\n",
    "X_ = pd.concat([mvbc_data, scada_data], axis=1)\n",
    "#only keep columns of X with 90% or more non-nan values\n",
    "X_ = X_.loc[:, X_.isna().sum()/len(X_) < 0.1]\n",
    "\n",
    "y_ = SS2_dbscan['mean_frequency']\n",
    "#X_train, X_test, y_train, y_test = train_test_split(X, y, test_size=0.2, random_state=42)\n",
    "\n",
    "Xy = pd.DataFrame(y_)\n",
    "for col in X_.columns:\n",
    "    Xy[col] = X_[col]\n",
    "Xy = Xy.dropna()\n",
    "y = Xy[y_.name]\n",
    "X = Xy[X_.columns]\n",
    "X_train, X_test, y_train, y_test = train_test_split(X, y, test_size=0.2, random_state=42)\n",
    "\n",
    "y_unique = y_[~y_.index.duplicated(keep='first')].dropna()\n",
    "low_rpm_indices = X[X[X.filter(regex='rpm').columns[0]] <= 0].index\n",
    "common_indices = y_unique.index.intersection(low_rpm_indices)\n",
    "print('Availability: ', len(common_indices)/len(X_))\n",
    "\n",
    "from xgboost import XGBRegressor\n",
    "from sklearn.feature_selection import RFE\n",
    "regr_model = XGBRegressor()\n",
    "selector = RFE(regr_model, n_features_to_select=13)  # Adjust the number of features\n",
    "selector = selector.fit(X, y)\n",
    "\n",
    "selected_features = selector.support_\n",
    "ranking = selector.ranking_\n",
    "\n",
    "print(\"Selected features:\", X.columns[selected_features])\n",
    "print(\"Removed features: \", X.columns[~selected_features])\n",
    "print(\"Feature ranking:\", ranking)\n",
    "print('ordered features: ', X.columns[ranking.argsort()])"
   ]
  },
  {
   "cell_type": "code",
   "execution_count": 15,
   "metadata": {},
   "outputs": [
    {
     "name": "stdout",
     "output_type": "stream",
     "text": [
      "Availability:  0.40684652375906755\n",
      "Selected features: [False False False False False False False False False False False  True\n",
      "  True  True False  True  True]\n",
      "Feature ranking: [13 12  9  8  7 10 11  6  5  4  2  1  1  1  3  1  1]\n",
      "ordered features:  Index(['mean_NW2_C02_winddirection', 'mean_NW2_C02_pitch', 'mean_NW2_C02_yaw',\n",
      "       'mean_NW2_C02_rpm', 'mean_NW2_C02_windspeed',\n",
      "       'mvbc_WandelaarMeasuringpile_Air_temperature', 'mean_NW2_C02_power',\n",
      "       'mvbc_WandelaarMeasuringpile_Air_pressure',\n",
      "       'mvbc_WandelaarMeasuringpile_Tide_TAW',\n",
      "       'mvbc_WandelaarMeasuringpile_Average_wind_speed_(at_10_m_height)',\n",
      "       'mvbc_WandelaarBuoy_Sea_water_temperature',\n",
      "       'mvbc_WandelaarBuoy_Height_waves_with_period_>_10_s',\n",
      "       'mvbc_WandelaarBuoy_Average_wave_period',\n",
      "       'mvbc_WandelaarMeasuringpile_Max_3-seconds_wind_gust_(at_10_m_height)',\n",
      "       'mvbc_WandelaarMeasuringpile_Average_wind_direction',\n",
      "       'mvbc_WandelaarBuoy_Wave_height',\n",
      "       'mvbc_WandelaarBuoy_10%_highest_waves'],\n",
      "      dtype='object')\n"
     ]
    }
   ],
   "source": [
    "from sklearn.model_selection import train_test_split\n",
    "X_ = pd.concat([mvbc_data, scada_data], axis=1)\n",
    "#only keep columns of X with 90% or more non-nan values\n",
    "X_ = X_.loc[:, X_.isna().sum()/len(X_) < 0.1]\n",
    "\n",
    "y_ = FA1_dbscan['mean_frequency']\n",
    "#X_train, X_test, y_train, y_test = train_test_split(X, y, test_size=0.2, random_state=42)\n",
    "\n",
    "Xy = pd.DataFrame(y_)\n",
    "for col in X_.columns:\n",
    "    Xy[col] = X_[col]\n",
    "Xy = Xy.dropna()\n",
    "y = Xy[y_.name]\n",
    "X = Xy[X_.columns]\n",
    "X_train, X_test, y_train, y_test = train_test_split(X, y, test_size=0.2, random_state=42)\n",
    "\n",
    "y_unique = y_[~y_.index.duplicated(keep='first')].dropna()\n",
    "print('Availability: ', len(y_unique)/len(X_))\n",
    "\n",
    "from xgboost import XGBRegressor\n",
    "from sklearn.feature_selection import RFE\n",
    "regr_model = XGBRegressor()\n",
    "selector = RFE(regr_model, n_features_to_select=5)  # Adjust the number of features\n",
    "selector = selector.fit(X, y)\n",
    "\n",
    "selected_features = selector.support_\n",
    "ranking = selector.ranking_\n",
    "\n",
    "print(\"Selected features:\", selected_features)\n",
    "print(\"Feature ranking:\", ranking)\n",
    "print('ordered features: ', X.columns[ranking.argsort()])"
   ]
  },
  {
   "cell_type": "code",
   "execution_count": 16,
   "metadata": {},
   "outputs": [
    {
     "name": "stdout",
     "output_type": "stream",
     "text": [
      "Selected features: [False False False False False False False False  True False False  True\n",
      " False  True  True  True False]\n",
      "Feature ranking: [ 3  2 10 12  7 11  9 13  1  8  6  1  5  1  1  1  4]\n",
      "ordered features:  Index(['mvbc_WandelaarMeasuringpile_Tide_TAW', 'mean_NW2_C02_power',\n",
      "       'mean_NW2_C02_pitch', 'mean_NW2_C02_rpm', 'mean_NW2_C02_windspeed',\n",
      "       'mvbc_WandelaarBuoy_Wave_height',\n",
      "       'mvbc_WandelaarBuoy_10%_highest_waves', 'mean_NW2_C02_winddirection',\n",
      "       'mean_NW2_C02_yaw', 'mvbc_WandelaarMeasuringpile_Air_temperature',\n",
      "       'mvbc_WandelaarBuoy_Sea_water_temperature',\n",
      "       'mvbc_WandelaarMeasuringpile_Air_pressure',\n",
      "       'mvbc_WandelaarMeasuringpile_Average_wind_direction',\n",
      "       'mvbc_WandelaarBuoy_Average_wave_period',\n",
      "       'mvbc_WandelaarMeasuringpile_Max_3-seconds_wind_gust_(at_10_m_height)',\n",
      "       'mvbc_WandelaarBuoy_Height_waves_with_period_>_10_s',\n",
      "       'mvbc_WandelaarMeasuringpile_Average_wind_speed_(at_10_m_height)'],\n",
      "      dtype='object')\n"
     ]
    }
   ],
   "source": [
    "\n",
    "from sklearn.model_selection import train_test_split\n",
    "X_ = pd.concat([mvbc_data, scada_data], axis=1)\n",
    "#only keep columns of X with 90% or more non-nan values\n",
    "X_ = X_.loc[:, X_.isna().sum()/len(X_) < 0.1]\n",
    "\n",
    "y_ = FA2_dbscan['mean_frequency']\n",
    "#X_train, X_test, y_train, y_test = train_test_split(X, y, test_size=0.2, random_state=42)\n",
    "\n",
    "Xy = pd.DataFrame(y_)\n",
    "for col in X_.columns:\n",
    "    Xy[col] = X_[col]\n",
    "Xy = Xy.dropna()\n",
    "y = Xy[y_.name]\n",
    "X = Xy[X_.columns]\n",
    "X_train, X_test, y_train, y_test = train_test_split(X, y, test_size=0.2, random_state=42)\n",
    "\n",
    "from xgboost import XGBRegressor\n",
    "from sklearn.feature_selection import RFE\n",
    "regr_model = XGBRegressor()\n",
    "selector = RFE(regr_model, n_features_to_select=5)  # Adjust the number of features\n",
    "selector = selector.fit(X, y)\n",
    "\n",
    "selected_features = selector.support_\n",
    "ranking = selector.ranking_\n",
    "\n",
    "print(\"Selected features:\", selected_features)\n",
    "print(\"Feature ranking:\", ranking)\n",
    "print('ordered features: ', X.columns[ranking.argsort()])"
   ]
  },
  {
   "cell_type": "code",
   "execution_count": 17,
   "metadata": {},
   "outputs": [
    {
     "ename": "InvalidIndexError",
     "evalue": "(slice(None, None, None), array([ 8, 14, 13, 11, 15,  1,  0, 16, 12, 10,  4,  9,  6,  2,  5,  3,  7],\n      dtype=int64))",
     "output_type": "error",
     "traceback": [
      "\u001b[1;31m---------------------------------------------------------------------------\u001b[0m",
      "\u001b[1;31mTypeError\u001b[0m                                 Traceback (most recent call last)",
      "File \u001b[1;32mc:\\Users\\Max\\anaconda3\\envs\\dce_eov_norm\\Lib\\site-packages\\pandas\\core\\indexes\\base.py:3791\u001b[0m, in \u001b[0;36mIndex.get_loc\u001b[1;34m(self, key)\u001b[0m\n\u001b[0;32m   3790\u001b[0m \u001b[38;5;28;01mtry\u001b[39;00m:\n\u001b[1;32m-> 3791\u001b[0m     \u001b[38;5;28;01mreturn\u001b[39;00m \u001b[38;5;28;43mself\u001b[39;49m\u001b[38;5;241;43m.\u001b[39;49m\u001b[43m_engine\u001b[49m\u001b[38;5;241;43m.\u001b[39;49m\u001b[43mget_loc\u001b[49m\u001b[43m(\u001b[49m\u001b[43mcasted_key\u001b[49m\u001b[43m)\u001b[49m\n\u001b[0;32m   3792\u001b[0m \u001b[38;5;28;01mexcept\u001b[39;00m \u001b[38;5;167;01mKeyError\u001b[39;00m \u001b[38;5;28;01mas\u001b[39;00m err:\n",
      "File \u001b[1;32mindex.pyx:152\u001b[0m, in \u001b[0;36mpandas._libs.index.IndexEngine.get_loc\u001b[1;34m()\u001b[0m\n",
      "File \u001b[1;32mindex.pyx:158\u001b[0m, in \u001b[0;36mpandas._libs.index.IndexEngine.get_loc\u001b[1;34m()\u001b[0m\n",
      "\u001b[1;31mTypeError\u001b[0m: '(slice(None, None, None), array([ 8, 14, 13, 11, 15,  1,  0, 16, 12, 10,  4,  9,  6,  2,  5,  3,  7],\n      dtype=int64))' is an invalid key",
      "\nDuring handling of the above exception, another exception occurred:\n",
      "\u001b[1;31mInvalidIndexError\u001b[0m                         Traceback (most recent call last)",
      "Cell \u001b[1;32mIn[17], line 2\u001b[0m\n\u001b[0;32m      1\u001b[0m \u001b[38;5;66;03m#order the features based on ranking\u001b[39;00m\n\u001b[1;32m----> 2\u001b[0m X_transformed \u001b[38;5;241m=\u001b[39m \u001b[43mX\u001b[49m\u001b[43m[\u001b[49m\u001b[43m:\u001b[49m\u001b[43m,\u001b[49m\u001b[43mranking\u001b[49m\u001b[38;5;241;43m.\u001b[39;49m\u001b[43margsort\u001b[49m\u001b[43m(\u001b[49m\u001b[43m)\u001b[49m\u001b[43m]\u001b[49m\n",
      "File \u001b[1;32mc:\\Users\\Max\\anaconda3\\envs\\dce_eov_norm\\Lib\\site-packages\\pandas\\core\\frame.py:3893\u001b[0m, in \u001b[0;36mDataFrame.__getitem__\u001b[1;34m(self, key)\u001b[0m\n\u001b[0;32m   3891\u001b[0m \u001b[38;5;28;01mif\u001b[39;00m \u001b[38;5;28mself\u001b[39m\u001b[38;5;241m.\u001b[39mcolumns\u001b[38;5;241m.\u001b[39mnlevels \u001b[38;5;241m>\u001b[39m \u001b[38;5;241m1\u001b[39m:\n\u001b[0;32m   3892\u001b[0m     \u001b[38;5;28;01mreturn\u001b[39;00m \u001b[38;5;28mself\u001b[39m\u001b[38;5;241m.\u001b[39m_getitem_multilevel(key)\n\u001b[1;32m-> 3893\u001b[0m indexer \u001b[38;5;241m=\u001b[39m \u001b[38;5;28;43mself\u001b[39;49m\u001b[38;5;241;43m.\u001b[39;49m\u001b[43mcolumns\u001b[49m\u001b[38;5;241;43m.\u001b[39;49m\u001b[43mget_loc\u001b[49m\u001b[43m(\u001b[49m\u001b[43mkey\u001b[49m\u001b[43m)\u001b[49m\n\u001b[0;32m   3894\u001b[0m \u001b[38;5;28;01mif\u001b[39;00m is_integer(indexer):\n\u001b[0;32m   3895\u001b[0m     indexer \u001b[38;5;241m=\u001b[39m [indexer]\n",
      "File \u001b[1;32mc:\\Users\\Max\\anaconda3\\envs\\dce_eov_norm\\Lib\\site-packages\\pandas\\core\\indexes\\base.py:3803\u001b[0m, in \u001b[0;36mIndex.get_loc\u001b[1;34m(self, key)\u001b[0m\n\u001b[0;32m   3798\u001b[0m     \u001b[38;5;28;01mraise\u001b[39;00m \u001b[38;5;167;01mKeyError\u001b[39;00m(key) \u001b[38;5;28;01mfrom\u001b[39;00m \u001b[38;5;21;01merr\u001b[39;00m\n\u001b[0;32m   3799\u001b[0m \u001b[38;5;28;01mexcept\u001b[39;00m \u001b[38;5;167;01mTypeError\u001b[39;00m:\n\u001b[0;32m   3800\u001b[0m     \u001b[38;5;66;03m# If we have a listlike key, _check_indexing_error will raise\u001b[39;00m\n\u001b[0;32m   3801\u001b[0m     \u001b[38;5;66;03m#  InvalidIndexError. Otherwise we fall through and re-raise\u001b[39;00m\n\u001b[0;32m   3802\u001b[0m     \u001b[38;5;66;03m#  the TypeError.\u001b[39;00m\n\u001b[1;32m-> 3803\u001b[0m     \u001b[38;5;28;43mself\u001b[39;49m\u001b[38;5;241;43m.\u001b[39;49m\u001b[43m_check_indexing_error\u001b[49m\u001b[43m(\u001b[49m\u001b[43mkey\u001b[49m\u001b[43m)\u001b[49m\n\u001b[0;32m   3804\u001b[0m     \u001b[38;5;28;01mraise\u001b[39;00m\n",
      "File \u001b[1;32mc:\\Users\\Max\\anaconda3\\envs\\dce_eov_norm\\Lib\\site-packages\\pandas\\core\\indexes\\base.py:5975\u001b[0m, in \u001b[0;36mIndex._check_indexing_error\u001b[1;34m(self, key)\u001b[0m\n\u001b[0;32m   5971\u001b[0m \u001b[38;5;28;01mdef\u001b[39;00m \u001b[38;5;21m_check_indexing_error\u001b[39m(\u001b[38;5;28mself\u001b[39m, key):\n\u001b[0;32m   5972\u001b[0m     \u001b[38;5;28;01mif\u001b[39;00m \u001b[38;5;129;01mnot\u001b[39;00m is_scalar(key):\n\u001b[0;32m   5973\u001b[0m         \u001b[38;5;66;03m# if key is not a scalar, directly raise an error (the code below\u001b[39;00m\n\u001b[0;32m   5974\u001b[0m         \u001b[38;5;66;03m# would convert to numpy arrays and raise later any way) - GH29926\u001b[39;00m\n\u001b[1;32m-> 5975\u001b[0m         \u001b[38;5;28;01mraise\u001b[39;00m InvalidIndexError(key)\n",
      "\u001b[1;31mInvalidIndexError\u001b[0m: (slice(None, None, None), array([ 8, 14, 13, 11, 15,  1,  0, 16, 12, 10,  4,  9,  6,  2,  5,  3,  7],\n      dtype=int64))"
     ]
    }
   ],
   "source": [
    "#order the features based on ranking\n",
    "X_transformed = X[:,ranking.argsort()]"
   ]
  },
  {
   "cell_type": "code",
   "execution_count": null,
   "metadata": {},
   "outputs": [],
   "source": []
  }
 ],
 "metadata": {
  "kernelspec": {
   "display_name": "dce_eov_norm",
   "language": "python",
   "name": "python3"
  },
  "language_info": {
   "codemirror_mode": {
    "name": "ipython",
    "version": 3
   },
   "file_extension": ".py",
   "mimetype": "text/x-python",
   "name": "python",
   "nbconvert_exporter": "python",
   "pygments_lexer": "ipython3",
   "version": "3.11.5"
  }
 },
 "nbformat": 4,
 "nbformat_minor": 2
}
