{
 "cells": [
  {
   "cell_type": "code",
   "execution_count": 1,
   "metadata": {},
   "outputs": [],
   "source": [
    "%load_ext autoreload\n",
    "%autoreload 2"
   ]
  },
  {
   "cell_type": "code",
   "execution_count": 2,
   "metadata": {},
   "outputs": [
    {
     "name": "stdout",
     "output_type": "stream",
     "text": [
      "WARNING:tensorflow:From c:\\Users\\Max\\anaconda3\\envs\\dce_eov_norm\\Lib\\site-packages\\keras\\src\\losses.py:2976: The name tf.losses.sparse_softmax_cross_entropy is deprecated. Please use tf.compat.v1.losses.sparse_softmax_cross_entropy instead.\n",
      "\n"
     ]
    }
   ],
   "source": [
    "#IMPORTS\n",
    "import os\n",
    "import pandas as pd\n",
    "import math\n",
    "from sklearn.metrics import mean_squared_error, r2_score\n",
    "import matplotlib.pyplot as plt\n",
    "from src.data.preprocessing import sin_cos_angle_inputs\n",
    "from sklearn.model_selection import train_test_split\n",
    "from sklearn.linear_model import LinearRegression\n",
    "from sklearn.ensemble import RandomForestRegressor\n",
    "from sklearn.ensemble import GradientBoostingRegressor\n",
    "from xgboost import XGBRegressor\n",
    "from catboost import CatBoostRegressor\n",
    "from sklearn.neural_network import MLPRegressor\n",
    "from sklearn.preprocessing import StandardScaler\n",
    "from tensorflow import keras\n",
    "from tensorflow.keras.layers import Dense, Flatten\n",
    "from tensorflow.keras.models import Sequential"
   ]
  },
  {
   "cell_type": "markdown",
   "metadata": {},
   "source": [
    "## Data preparation"
   ]
  },
  {
   "cell_type": "code",
   "execution_count": 3,
   "metadata": {},
   "outputs": [],
   "source": [
    "loc = 'nw2'\n",
    "turbine = 'c02'\n",
    "\n",
    "# GET THE DATA\n",
    "package_folder = os.path.dirname(os.path.dirname(os.path.dirname(os.getcwd())))\n",
    "data_folder = os.path.join(package_folder, 'data')\n",
    "ss2_selected = pd.read_csv(os.path.join(data_folder, 'processed','nw2', turbine+'_ss2_selected_data_large.csv'))\n",
    "ss2_selected.set_index('timestamp', inplace=True)\n",
    "ss2_selected.index = pd.to_datetime(ss2_selected.index)\n",
    "SS1_dbscan = pd.read_parquet(os.path.join(data_folder, 'interim',loc,'tracked_modes', 'dbscan_based', loc+turbine+'_SS1_mode.parquet'))\n",
    "SS2_dbscan = pd.read_parquet(os.path.join(data_folder, 'interim',loc,'tracked_modes', 'dbscan_based', loc+turbine+'_SS2_mode.parquet'))\n",
    "FA1_dbscan = pd.read_parquet(os.path.join(data_folder, 'interim',loc,'tracked_modes', 'dbscan_based', loc+turbine+'_FA1_mode.parquet'))\n",
    "FA2_dbscan = pd.read_parquet(os.path.join(data_folder, 'interim',loc,'tracked_modes', 'dbscan_based', loc+turbine+'_FA2_mode.parquet'))\n",
    "\n",
    "rfe_selected_data = pd.read_parquet(os.path.join(data_folder, 'interim', loc, 'rfe_selected_data', loc+turbine+'_rfe_selected_data.parquet'))"
   ]
  },
  {
   "cell_type": "code",
   "execution_count": 4,
   "metadata": {},
   "outputs": [],
   "source": [
    "##Prepare the training and test data\n",
    "\n",
    "#choose y_ to be SS1_dbscan but uniquely indexed keeping the index with hghest value in size column when duplicated\n",
    "y_ = ss2_selected.copy()\n",
    "y_ = y_.sort_values(by=['size'], ascending=False)\n",
    "y_ = y_.loc[~y_.index.duplicated(keep='last')]\n",
    "y_ = y_.sort_index()\n",
    "\n",
    "\n",
    "#Synchronize data\n",
    "Xy = pd.DataFrame(y_['mean_frequency'])\n",
    "for col in rfe_selected_data.columns:\n",
    "    Xy[col] = rfe_selected_data[col]\n",
    "Xy.dropna(inplace=True)\n",
    "y = Xy.iloc[:,0]\n",
    "X_ = Xy[rfe_selected_data.columns]\n",
    "\n",
    "#preprocess the data\n",
    "X = sin_cos_angle_inputs(X_)\n",
    "\n",
    "X_train, X_test, y_train, y_test = train_test_split(X, y, test_size=0.2, random_state=42)"
   ]
  },
  {
   "cell_type": "markdown",
   "metadata": {},
   "source": [
    "## Model Training"
   ]
  },
  {
   "cell_type": "code",
   "execution_count": 5,
   "metadata": {},
   "outputs": [
    {
     "name": "stdout",
     "output_type": "stream",
     "text": [
      "Linear Regression MSE: 5.15184140044841e-05 R2: 0.7488304578382061\n"
     ]
    }
   ],
   "source": [
    "# Simple Linear Regression\n",
    "lin_regr = LinearRegression()\n",
    "lin_regr.fit(X_train, y_train)\n",
    "lin_regr_pred = pd.DataFrame(lin_regr.predict(X_test), index=y_test.index, columns=['predictions'])\n",
    "print('Linear Regression', 'MSE: '+str(mean_squared_error(y_test, lin_regr_pred)), 'R2: '+str(r2_score(y_test, lin_regr_pred)))"
   ]
  },
  {
   "cell_type": "code",
   "execution_count": 6,
   "metadata": {},
   "outputs": [
    {
     "name": "stdout",
     "output_type": "stream",
     "text": [
      "Found array with 0 sample(s) (shape=(0, 14)) while a minimum of 1 is required by LinearRegression. must be real number, not str\n",
      "Case High wind: Turbine reducing output power at extreme wind speeds failed\n"
     ]
    }
   ],
   "source": [
    "# Multivariate Linear Regression\n",
    "\n",
    "mult_lin_regressions = {}\n",
    "mult_lin_regr_pred = pd.DataFrame(index=y_test.index, columns=['predictions'])\n",
    "case_lin_regr_pred = {}\n",
    "caseIDs = pd.read_csv(os.path.join(data_folder, 'interim', 'nw2', 'labeled', loc+turbine+'_case.csv'))\n",
    "caseIDs.set_index('timestamp', inplace=True)\n",
    "caseIDs.index = pd.to_datetime(caseIDs.index, utc=True)\n",
    "for case_ in caseIDs['caseID'].unique():\n",
    "    try:\n",
    "        case_lin_regr = LinearRegression()\n",
    "        case_index = caseIDs[caseIDs['caseID']==case_].index\n",
    "        case_index_train = case_index[case_index.isin(X_train.index)]\n",
    "        case_index_test = case_index[case_index.isin(X_test.index)]\n",
    "        case_lin_regr.fit(X_train.loc[case_index_train], y_train.loc[case_index_train])\n",
    "        mult_lin_regressions[case_] = case_lin_regr\n",
    "    except Exception as e1:\n",
    "        try:\n",
    "            if math.isnan(case_):\n",
    "                case_lin_regr = LinearRegression()\n",
    "                case_index = caseIDs[caseIDs['caseID'].isna()].index\n",
    "                case_index_train = case_index[case_index.isin(X_train.index)]\n",
    "                case_index_test = case_index[case_index.isin(X_test.index)]\n",
    "                case_lin_regr.fit(X_train.loc[case_index_train], y_train.loc[case_index_train])\n",
    "                mult_lin_regressions[case_] = case_lin_regr\n",
    "        except Exception as e2:\n",
    "            print(e1, e2)\n",
    "            print('Case '+str(case_)+' failed')"
   ]
  },
  {
   "cell_type": "code",
   "execution_count": 7,
   "metadata": {},
   "outputs": [
    {
     "name": "stdout",
     "output_type": "stream",
     "text": [
      "nan\n",
      "Found array with 0 sample(s) (shape=(0, 14)) while a minimum of 1 is required by LinearRegression. must be real number, not str\n",
      "Case Rated RPM: Turbine rotating at 10.4rpm or 10.445rpm failed\n",
      "'High wind: Turbine reducing output power at extreme wind speeds' must be real number, not str\n",
      "Case High wind: Turbine reducing output power at extreme wind speeds failed\n",
      "Multivariate Linear Regression MSE: 4.5735632263559245e-05 R2: 0.7770234577656351\n"
     ]
    },
    {
     "name": "stderr",
     "output_type": "stream",
     "text": [
      "C:\\Users\\Max\\AppData\\Local\\Temp\\ipykernel_36488\\248844592.py:20: FutureWarning: The behavior of array concatenation with empty entries is deprecated. In a future version, this will no longer exclude empty items when determining the result dtype. To retain the old behavior, exclude the empty entries before the concat operation.\n",
      "  pd.concat(\n",
      "C:\\Users\\Max\\AppData\\Local\\Temp\\ipykernel_36488\\248844592.py:20: FutureWarning: The behavior of DataFrame concatenation with empty or all-NA entries is deprecated. In a future version, this will no longer exclude empty or all-NA columns when determining the result dtypes. To retain the old behavior, exclude the relevant entries before the concat operation.\n",
      "  pd.concat(\n"
     ]
    }
   ],
   "source": [
    "mult_lin_regr_pred = pd.DataFrame(columns=['predictions'])\n",
    "for case_ in caseIDs['caseID'].unique():\n",
    "    try:\n",
    "        case_index = caseIDs[caseIDs['caseID']==case_].index\n",
    "        case_index_test = case_index[case_index.isin(X_test.index)]\n",
    "        mult_lin_regr_pred = \\\n",
    "            pd.concat(\n",
    "                [\n",
    "                mult_lin_regr_pred,\n",
    "                pd.DataFrame(mult_lin_regressions[case_].predict(X_test.loc[case_index_test]), index=X_test.loc[case_index_test].index, columns=['predictions'])\n",
    "                ],\n",
    "                axis=0)\n",
    "    except Exception as e1:\n",
    "        try:\n",
    "            if math.isnan(case_):\n",
    "                print(case_)\n",
    "                case_index = caseIDs[caseIDs['caseID'].isna()].index\n",
    "                case_index_test = case_index[case_index.isin(X_test.index)]\n",
    "                mult_lin_regr_pred = \\\n",
    "                    pd.concat(\n",
    "                        [\n",
    "                        mult_lin_regr_pred,\n",
    "                        pd.DataFrame(mult_lin_regressions[case_].predict(X_test.loc[case_index_test]), index=X_test.loc[case_index_test].index, columns=['predictions'])\n",
    "                        ],\n",
    "                        axis=0)\n",
    "        except Exception as e2:\n",
    "            print(e1, e2)\n",
    "            print('Case '+str(case_)+' failed')\n",
    "mult_lin_regr_pred.sort_index(inplace=True)\n",
    "print('Multivariate Linear Regression', 'MSE: '+str(mean_squared_error(y_test.loc[mult_lin_regr_pred.index], mult_lin_regr_pred)), 'R2: '+str(r2_score(y_test.loc[mult_lin_regr_pred.index], mult_lin_regr_pred)))"
   ]
  },
  {
   "cell_type": "code",
   "execution_count": 8,
   "metadata": {},
   "outputs": [],
   "source": [
    "# Random Forest Regression\n",
    "rf_regr = RandomForestRegressor()\n",
    "rf_regr.fit(X_train, y_train)\n",
    "rf_regr_pred = pd.DataFrame(rf_regr.predict(X_test), index=y_test.index, columns=['predictions'])"
   ]
  },
  {
   "cell_type": "code",
   "execution_count": 9,
   "metadata": {},
   "outputs": [],
   "source": [
    "# Gradient Boosting Regression\n",
    "gb_regr = GradientBoostingRegressor(random_state=42)\n",
    "gb_regr.fit(X_train, y_train)\n",
    "gb_regr_pred = pd.DataFrame(gb_regr.predict(X_test), index=y_test.index, columns=['predictions'])"
   ]
  },
  {
   "cell_type": "code",
   "execution_count": 10,
   "metadata": {},
   "outputs": [
    {
     "name": "stdout",
     "output_type": "stream",
     "text": [
      "XGBoost Regression MSE: 4.3883973096042506e-05 R2: 0.7860509170601776\n"
     ]
    }
   ],
   "source": [
    "# XGBoost regression\n",
    "xgb_regr = XGBRegressor()\n",
    "xgb_regr.fit(X_train, y_train)\n",
    "xgb_regr_pred = pd.DataFrame(xgb_regr.predict(X_test), index=y_test.index, columns=['predictions'])\n",
    "print('XGBoost Regression', 'MSE: '+str(mean_squared_error(y_test, xgb_regr_pred)), 'R2: '+str(r2_score(y_test, xgb_regr_pred)))"
   ]
  },
  {
   "cell_type": "code",
   "execution_count": 11,
   "metadata": {},
   "outputs": [
    {
     "name": "stdout",
     "output_type": "stream",
     "text": [
      "CatBoost Regression MSE: 3.9130410660998764e-05 R2: 0.8092261277788833\n"
     ]
    }
   ],
   "source": [
    "# CatBoost regression\n",
    "cat_regr = CatBoostRegressor()\n",
    "cat_regr.fit(X_train, y_train, verbose=False)\n",
    "cat_regr_pred = pd.DataFrame(cat_regr.predict(X_test), index=y_test.index, columns=['predictions'])\n",
    "print('CatBoost Regression', 'MSE: '+str(mean_squared_error(y_test, cat_regr_pred)), 'R2: '+str(r2_score(y_test, cat_regr_pred)))"
   ]
  },
  {
   "cell_type": "code",
   "execution_count": 12,
   "metadata": {},
   "outputs": [],
   "source": [
    "# Neural Network\n",
    "scaler = StandardScaler()\n",
    "scaler.fit(X_train)\n",
    "X_train_scaled = scaler.transform(X_train)\n",
    "mlp_regr = MLPRegressor()\n",
    "mlp_regr.fit(X_train_scaled, y_train)\n",
    "mlp_regr_pred = pd.DataFrame(mlp_regr.predict(scaler.transform(X_test)), index=y_test.index, columns=['predictions'])"
   ]
  },
  {
   "cell_type": "code",
   "execution_count": 16,
   "metadata": {},
   "outputs": [
    {
     "name": "stdout",
     "output_type": "stream",
     "text": [
      "Epoch 1/20\n",
      "113/113 [==============================] - 2s 3ms/step - loss: 0.1498 - mean_squared_error: 0.1498\n",
      "Epoch 2/20\n",
      "113/113 [==============================] - 0s 2ms/step - loss: 0.0123 - mean_squared_error: 0.0123\n",
      "Epoch 3/20\n",
      "113/113 [==============================] - 0s 3ms/step - loss: 0.0067 - mean_squared_error: 0.0067\n",
      "Epoch 4/20\n",
      "113/113 [==============================] - 0s 3ms/step - loss: 0.0049 - mean_squared_error: 0.0049\n",
      "Epoch 5/20\n",
      "113/113 [==============================] - 0s 3ms/step - loss: 0.0038 - mean_squared_error: 0.0038\n",
      "Epoch 6/20\n",
      "113/113 [==============================] - 0s 3ms/step - loss: 0.0030 - mean_squared_error: 0.0030\n",
      "Epoch 7/20\n",
      "113/113 [==============================] - 0s 3ms/step - loss: 0.0025 - mean_squared_error: 0.0025\n",
      "Epoch 8/20\n",
      "113/113 [==============================] - 0s 3ms/step - loss: 0.0021 - mean_squared_error: 0.0021\n",
      "Epoch 9/20\n",
      "113/113 [==============================] - 0s 3ms/step - loss: 0.0017 - mean_squared_error: 0.0017\n",
      "Epoch 10/20\n",
      "113/113 [==============================] - 0s 3ms/step - loss: 0.0015 - mean_squared_error: 0.0015\n",
      "Epoch 11/20\n",
      "113/113 [==============================] - 0s 3ms/step - loss: 0.0013 - mean_squared_error: 0.0013\n",
      "Epoch 12/20\n",
      "113/113 [==============================] - 0s 3ms/step - loss: 0.0011 - mean_squared_error: 0.0011\n",
      "Epoch 13/20\n",
      "113/113 [==============================] - 0s 3ms/step - loss: 9.9583e-04 - mean_squared_error: 9.9583e-04\n",
      "Epoch 14/20\n",
      "113/113 [==============================] - 0s 3ms/step - loss: 8.7355e-04 - mean_squared_error: 8.7355e-04\n",
      "Epoch 15/20\n",
      "113/113 [==============================] - 0s 3ms/step - loss: 7.9816e-04 - mean_squared_error: 7.9816e-04\n",
      "Epoch 16/20\n",
      "113/113 [==============================] - 0s 3ms/step - loss: 7.2164e-04 - mean_squared_error: 7.2164e-04\n",
      "Epoch 17/20\n",
      "113/113 [==============================] - 0s 3ms/step - loss: 6.5061e-04 - mean_squared_error: 6.5061e-04\n",
      "Epoch 18/20\n",
      "113/113 [==============================] - 0s 4ms/step - loss: 6.0318e-04 - mean_squared_error: 6.0318e-04\n",
      "Epoch 19/20\n",
      "113/113 [==============================] - 0s 4ms/step - loss: 5.4622e-04 - mean_squared_error: 5.4622e-04\n",
      "Epoch 20/20\n",
      "113/113 [==============================] - 0s 4ms/step - loss: 5.0826e-04 - mean_squared_error: 5.0826e-04\n",
      "29/29 [==============================] - 0s 3ms/step\n",
      "Epoch 1/100\n",
      "113/113 [==============================] - 2s 3ms/step - loss: 0.1485 - mean_squared_error: 0.1485\n",
      "Epoch 2/100\n",
      "113/113 [==============================] - 0s 4ms/step - loss: 0.0198 - mean_squared_error: 0.0198\n",
      "Epoch 3/100\n",
      "113/113 [==============================] - 0s 4ms/step - loss: 0.0103 - mean_squared_error: 0.0103\n",
      "Epoch 4/100\n",
      "113/113 [==============================] - 0s 3ms/step - loss: 0.0069 - mean_squared_error: 0.0069\n",
      "Epoch 5/100\n",
      "113/113 [==============================] - 0s 3ms/step - loss: 0.0052 - mean_squared_error: 0.0052\n",
      "Epoch 6/100\n",
      "113/113 [==============================] - 0s 3ms/step - loss: 0.0042 - mean_squared_error: 0.0042\n",
      "Epoch 7/100\n",
      "113/113 [==============================] - 0s 4ms/step - loss: 0.0035 - mean_squared_error: 0.0035\n",
      "Epoch 8/100\n",
      "113/113 [==============================] - 0s 4ms/step - loss: 0.0030 - mean_squared_error: 0.0030\n",
      "Epoch 9/100\n",
      "113/113 [==============================] - 0s 3ms/step - loss: 0.0026 - mean_squared_error: 0.0026\n",
      "Epoch 10/100\n",
      "113/113 [==============================] - 0s 3ms/step - loss: 0.0022 - mean_squared_error: 0.0022\n",
      "Epoch 11/100\n",
      "113/113 [==============================] - 0s 3ms/step - loss: 0.0019 - mean_squared_error: 0.0019\n",
      "Epoch 12/100\n",
      "113/113 [==============================] - 0s 3ms/step - loss: 0.0017 - mean_squared_error: 0.0017\n",
      "Epoch 13/100\n",
      "113/113 [==============================] - 0s 3ms/step - loss: 0.0016 - mean_squared_error: 0.0016\n",
      "Epoch 14/100\n",
      "113/113 [==============================] - 0s 3ms/step - loss: 0.0014 - mean_squared_error: 0.0014\n",
      "Epoch 15/100\n",
      "113/113 [==============================] - 0s 4ms/step - loss: 0.0013 - mean_squared_error: 0.0013\n",
      "Epoch 16/100\n",
      "113/113 [==============================] - 0s 4ms/step - loss: 0.0012 - mean_squared_error: 0.0012\n",
      "Epoch 17/100\n",
      "113/113 [==============================] - 0s 3ms/step - loss: 0.0011 - mean_squared_error: 0.0011\n",
      "Epoch 18/100\n",
      "113/113 [==============================] - 0s 4ms/step - loss: 0.0010 - mean_squared_error: 0.0010  \n",
      "Epoch 19/100\n",
      "113/113 [==============================] - 0s 4ms/step - loss: 9.3396e-04 - mean_squared_error: 9.3396e-04\n",
      "Epoch 20/100\n",
      "113/113 [==============================] - 1s 5ms/step - loss: 8.5214e-04 - mean_squared_error: 8.5214e-04\n",
      "Epoch 21/100\n",
      "113/113 [==============================] - 1s 5ms/step - loss: 8.0058e-04 - mean_squared_error: 8.0058e-04\n",
      "Epoch 22/100\n",
      "113/113 [==============================] - 0s 4ms/step - loss: 7.3653e-04 - mean_squared_error: 7.3653e-04\n",
      "Epoch 23/100\n",
      "113/113 [==============================] - 0s 4ms/step - loss: 6.9828e-04 - mean_squared_error: 6.9828e-04\n",
      "Epoch 24/100\n",
      "113/113 [==============================] - 0s 4ms/step - loss: 6.4633e-04 - mean_squared_error: 6.4633e-04\n",
      "Epoch 25/100\n",
      "113/113 [==============================] - 0s 4ms/step - loss: 6.1580e-04 - mean_squared_error: 6.1580e-04\n",
      "Epoch 26/100\n",
      "113/113 [==============================] - 1s 4ms/step - loss: 5.8887e-04 - mean_squared_error: 5.8887e-04\n",
      "Epoch 27/100\n",
      "113/113 [==============================] - 0s 4ms/step - loss: 5.4883e-04 - mean_squared_error: 5.4883e-04\n",
      "Epoch 28/100\n",
      "113/113 [==============================] - 0s 3ms/step - loss: 5.2098e-04 - mean_squared_error: 5.2098e-04\n",
      "Epoch 29/100\n",
      "113/113 [==============================] - 0s 3ms/step - loss: 4.9162e-04 - mean_squared_error: 4.9162e-04\n",
      "Epoch 30/100\n",
      "113/113 [==============================] - 0s 4ms/step - loss: 4.7370e-04 - mean_squared_error: 4.7370e-04\n",
      "Epoch 31/100\n",
      "113/113 [==============================] - 0s 4ms/step - loss: 4.3290e-04 - mean_squared_error: 4.3290e-04\n",
      "Epoch 32/100\n",
      "113/113 [==============================] - 0s 4ms/step - loss: 4.1993e-04 - mean_squared_error: 4.1993e-04\n",
      "Epoch 33/100\n",
      "113/113 [==============================] - 1s 5ms/step - loss: 4.1656e-04 - mean_squared_error: 4.1656e-04\n",
      "Epoch 34/100\n",
      "113/113 [==============================] - 0s 4ms/step - loss: 3.8643e-04 - mean_squared_error: 3.8643e-04\n",
      "Epoch 35/100\n",
      "113/113 [==============================] - 0s 4ms/step - loss: 3.6565e-04 - mean_squared_error: 3.6565e-04\n",
      "Epoch 36/100\n",
      "113/113 [==============================] - 0s 4ms/step - loss: 3.4777e-04 - mean_squared_error: 3.4777e-04\n",
      "Epoch 37/100\n",
      "113/113 [==============================] - 0s 3ms/step - loss: 3.3502e-04 - mean_squared_error: 3.3502e-04\n",
      "Epoch 38/100\n",
      "113/113 [==============================] - 0s 3ms/step - loss: 3.3116e-04 - mean_squared_error: 3.3116e-04\n",
      "Epoch 39/100\n",
      "113/113 [==============================] - 0s 3ms/step - loss: 3.2017e-04 - mean_squared_error: 3.2017e-04\n",
      "Epoch 40/100\n",
      "113/113 [==============================] - 0s 4ms/step - loss: 3.0986e-04 - mean_squared_error: 3.0986e-04\n",
      "Epoch 41/100\n",
      "113/113 [==============================] - 0s 4ms/step - loss: 2.8702e-04 - mean_squared_error: 2.8702e-04\n",
      "Epoch 42/100\n",
      "113/113 [==============================] - 0s 4ms/step - loss: 2.8056e-04 - mean_squared_error: 2.8056e-04\n",
      "Epoch 43/100\n",
      "113/113 [==============================] - 0s 4ms/step - loss: 2.7325e-04 - mean_squared_error: 2.7325e-04\n",
      "Epoch 44/100\n",
      "113/113 [==============================] - 0s 4ms/step - loss: 2.5969e-04 - mean_squared_error: 2.5969e-04\n",
      "Epoch 45/100\n",
      "113/113 [==============================] - 1s 5ms/step - loss: 2.4765e-04 - mean_squared_error: 2.4765e-04\n",
      "Epoch 46/100\n",
      "113/113 [==============================] - 0s 4ms/step - loss: 2.3186e-04 - mean_squared_error: 2.3186e-04\n",
      "Epoch 47/100\n",
      "113/113 [==============================] - 0s 4ms/step - loss: 2.3195e-04 - mean_squared_error: 2.3195e-04\n",
      "Epoch 48/100\n",
      "113/113 [==============================] - 1s 5ms/step - loss: 2.2220e-04 - mean_squared_error: 2.2220e-04\n",
      "Epoch 49/100\n",
      "113/113 [==============================] - 1s 5ms/step - loss: 2.1150e-04 - mean_squared_error: 2.1150e-04\n",
      "Epoch 50/100\n",
      "113/113 [==============================] - 0s 4ms/step - loss: 2.2537e-04 - mean_squared_error: 2.2537e-04\n",
      "Epoch 51/100\n",
      "113/113 [==============================] - 0s 4ms/step - loss: 2.0911e-04 - mean_squared_error: 2.0911e-04\n",
      "Epoch 52/100\n",
      "113/113 [==============================] - 0s 4ms/step - loss: 2.0060e-04 - mean_squared_error: 2.0060e-04\n",
      "Epoch 53/100\n",
      "113/113 [==============================] - 1s 5ms/step - loss: 1.9096e-04 - mean_squared_error: 1.9096e-04\n",
      "Epoch 54/100\n",
      "113/113 [==============================] - 0s 4ms/step - loss: 1.8676e-04 - mean_squared_error: 1.8676e-04\n",
      "Epoch 55/100\n",
      "113/113 [==============================] - 0s 4ms/step - loss: 1.7715e-04 - mean_squared_error: 1.7715e-04\n",
      "Epoch 56/100\n",
      "113/113 [==============================] - 1s 5ms/step - loss: 1.6780e-04 - mean_squared_error: 1.6780e-04\n",
      "Epoch 57/100\n",
      "113/113 [==============================] - 0s 4ms/step - loss: 1.7893e-04 - mean_squared_error: 1.7893e-04\n",
      "Epoch 58/100\n",
      "113/113 [==============================] - 1s 5ms/step - loss: 1.5988e-04 - mean_squared_error: 1.5988e-04\n",
      "Epoch 59/100\n",
      "113/113 [==============================] - 1s 4ms/step - loss: 1.6963e-04 - mean_squared_error: 1.6963e-04\n",
      "Epoch 60/100\n",
      "113/113 [==============================] - 1s 5ms/step - loss: 1.7139e-04 - mean_squared_error: 1.7139e-04\n",
      "Epoch 61/100\n",
      "113/113 [==============================] - 1s 5ms/step - loss: 1.5696e-04 - mean_squared_error: 1.5696e-04\n",
      "Epoch 62/100\n",
      "113/113 [==============================] - 0s 4ms/step - loss: 1.4180e-04 - mean_squared_error: 1.4180e-04\n",
      "Epoch 63/100\n",
      "113/113 [==============================] - 1s 5ms/step - loss: 1.4285e-04 - mean_squared_error: 1.4285e-04\n",
      "Epoch 64/100\n",
      "113/113 [==============================] - 0s 4ms/step - loss: 1.4553e-04 - mean_squared_error: 1.4553e-04\n",
      "Epoch 65/100\n",
      "113/113 [==============================] - 0s 4ms/step - loss: 1.3190e-04 - mean_squared_error: 1.3190e-04\n",
      "Epoch 66/100\n",
      "113/113 [==============================] - 1s 5ms/step - loss: 1.3590e-04 - mean_squared_error: 1.3590e-04\n",
      "Epoch 67/100\n",
      "113/113 [==============================] - 1s 5ms/step - loss: 1.2732e-04 - mean_squared_error: 1.2732e-04\n",
      "Epoch 68/100\n",
      "113/113 [==============================] - 1s 5ms/step - loss: 1.3012e-04 - mean_squared_error: 1.3012e-04\n",
      "Epoch 69/100\n",
      "113/113 [==============================] - 1s 6ms/step - loss: 1.2712e-04 - mean_squared_error: 1.2712e-04\n",
      "Epoch 70/100\n",
      "113/113 [==============================] - 1s 6ms/step - loss: 1.2318e-04 - mean_squared_error: 1.2318e-04\n",
      "Epoch 71/100\n",
      "113/113 [==============================] - 0s 4ms/step - loss: 1.1839e-04 - mean_squared_error: 1.1839e-04\n",
      "Epoch 72/100\n",
      "113/113 [==============================] - 0s 4ms/step - loss: 1.1801e-04 - mean_squared_error: 1.1801e-04\n",
      "Epoch 73/100\n",
      "113/113 [==============================] - 0s 4ms/step - loss: 1.1057e-04 - mean_squared_error: 1.1057e-04\n",
      "Epoch 74/100\n",
      "113/113 [==============================] - 0s 4ms/step - loss: 1.0965e-04 - mean_squared_error: 1.0965e-04\n",
      "Epoch 75/100\n",
      "113/113 [==============================] - 0s 3ms/step - loss: 1.1312e-04 - mean_squared_error: 1.1312e-04\n",
      "Epoch 76/100\n",
      "113/113 [==============================] - 0s 3ms/step - loss: 1.0606e-04 - mean_squared_error: 1.0606e-04\n",
      "Epoch 77/100\n",
      "113/113 [==============================] - 0s 4ms/step - loss: 1.0736e-04 - mean_squared_error: 1.0736e-04\n",
      "Epoch 78/100\n",
      "113/113 [==============================] - 0s 3ms/step - loss: 1.0210e-04 - mean_squared_error: 1.0210e-04\n",
      "Epoch 79/100\n",
      "113/113 [==============================] - 0s 4ms/step - loss: 1.0218e-04 - mean_squared_error: 1.0218e-04\n",
      "Epoch 80/100\n",
      "113/113 [==============================] - 1s 5ms/step - loss: 1.0632e-04 - mean_squared_error: 1.0632e-04\n",
      "Epoch 81/100\n",
      "113/113 [==============================] - 0s 4ms/step - loss: 9.5430e-05 - mean_squared_error: 9.5430e-05\n",
      "Epoch 82/100\n",
      "113/113 [==============================] - 0s 4ms/step - loss: 1.1292e-04 - mean_squared_error: 1.1292e-04\n",
      "Epoch 83/100\n",
      "113/113 [==============================] - 0s 4ms/step - loss: 9.4727e-05 - mean_squared_error: 9.4727e-05\n",
      "Epoch 84/100\n",
      "113/113 [==============================] - 0s 4ms/step - loss: 9.7598e-05 - mean_squared_error: 9.7598e-05\n",
      "Epoch 85/100\n",
      "113/113 [==============================] - 0s 4ms/step - loss: 8.5534e-05 - mean_squared_error: 8.5534e-05\n",
      "Epoch 86/100\n",
      "113/113 [==============================] - 0s 4ms/step - loss: 9.3450e-05 - mean_squared_error: 9.3450e-05\n",
      "Epoch 87/100\n",
      "113/113 [==============================] - 0s 3ms/step - loss: 8.2157e-05 - mean_squared_error: 8.2157e-05\n",
      "Epoch 88/100\n",
      "113/113 [==============================] - 0s 4ms/step - loss: 8.5398e-05 - mean_squared_error: 8.5398e-05\n",
      "Epoch 89/100\n",
      "113/113 [==============================] - 0s 4ms/step - loss: 8.7185e-05 - mean_squared_error: 8.7185e-05\n",
      "Epoch 90/100\n",
      "113/113 [==============================] - 0s 4ms/step - loss: 9.5968e-05 - mean_squared_error: 9.5968e-05\n",
      "Epoch 91/100\n",
      "113/113 [==============================] - 0s 3ms/step - loss: 8.7786e-05 - mean_squared_error: 8.7786e-05\n",
      "Epoch 92/100\n",
      "113/113 [==============================] - 0s 3ms/step - loss: 8.1006e-05 - mean_squared_error: 8.1006e-05\n",
      "Epoch 93/100\n",
      "113/113 [==============================] - 0s 2ms/step - loss: 8.6187e-05 - mean_squared_error: 8.6187e-05\n",
      "Epoch 94/100\n",
      "113/113 [==============================] - 0s 4ms/step - loss: 8.7586e-05 - mean_squared_error: 8.7586e-05\n",
      "Epoch 95/100\n",
      "113/113 [==============================] - 0s 3ms/step - loss: 8.5298e-05 - mean_squared_error: 8.5298e-05\n",
      "Epoch 96/100\n",
      "113/113 [==============================] - 0s 3ms/step - loss: 8.7234e-05 - mean_squared_error: 8.7234e-05\n",
      "Epoch 97/100\n",
      "113/113 [==============================] - 0s 3ms/step - loss: 7.9204e-05 - mean_squared_error: 7.9204e-05\n",
      "Epoch 98/100\n",
      "113/113 [==============================] - 0s 3ms/step - loss: 7.5431e-05 - mean_squared_error: 7.5431e-05\n",
      "Epoch 99/100\n",
      "113/113 [==============================] - 0s 3ms/step - loss: 7.3523e-05 - mean_squared_error: 7.3523e-05\n",
      "Epoch 100/100\n",
      "113/113 [==============================] - 0s 3ms/step - loss: 8.0126e-05 - mean_squared_error: 8.0126e-05\n",
      "29/29 [==============================] - 0s 2ms/step\n"
     ]
    }
   ],
   "source": [
    "# Neural Network\n",
    "def build_model(layers_=[100]):\n",
    "    model = Sequential()\n",
    "    model.add(Flatten())\n",
    "    model.add(Dense(units=layers_[0], activation='relu', input_shape=(len(X.columns),)))\n",
    "    if len(layers_)>1:\n",
    "        for layer in layers_[1:]:\n",
    "            model.add(Dense(units=layer, activation='relu'))\n",
    "    model.add(Dense(1, activation=\"linear\"))\n",
    "    model.compile(\n",
    "        optimizer=\"adam\", loss=\"mean_squared_error\", metrics=[\"mean_squared_error\"],\n",
    "    )\n",
    "    return model\n",
    "scaler = StandardScaler()\n",
    "scaler.fit(X_train)\n",
    "X_train_scaled = scaler.transform(X_train)\n",
    "nn_regr = build_model()\n",
    "nn_regr.fit(X_train_scaled, y_train, epochs=20)\n",
    "nn_regr_pred = pd.DataFrame(nn_regr.predict(scaler.transform(X_test)), index=y_test.index, columns=['predictions'])\n",
    "\n",
    "nn_regr_2 = build_model([20, 20])\n",
    "nn_regr_2.fit(X_train_scaled, y_train, epochs=100)\n",
    "nn_regr_2_pred = pd.DataFrame(nn_regr_2.predict(scaler.transform(X_test)), index=y_test.index, columns=['predictions'])\n"
   ]
  },
  {
   "cell_type": "code",
   "execution_count": 17,
   "metadata": {},
   "outputs": [
    {
     "name": "stdout",
     "output_type": "stream",
     "text": [
      "Linear Regression MSE: 5.15184140044841e-05 R2: 0.7488304578382061\n",
      "Multivariate Linear Regression MSE: 4.5735632263559245e-05 R2: 0.7770234577656351\n",
      "Random Forest Regression MSE: 4.106962652445281e-05 R2: 0.7997718002342844\n",
      "Gradient Boosting Regression MSE: 4.3060819102693846e-05 R2: 0.790064068777543\n",
      "XGBoost Regression MSE: 4.3883973096042506e-05 R2: 0.7860509170601776\n",
      "CatBoost Regression MSE: 3.9130410660998764e-05 R2: 0.8092261277788833\n",
      "MLP Regression MSE: 0.002939610077393864 R2: -13.33158476518606\n",
      "Neural Network Regression MSE: 0.0006818559294480576 R2: -2.3242762792516607\n",
      "Neural Network Regression 2 MSE: 0.0001048887063707309 R2: 0.4886323877364258\n"
     ]
    },
    {
     "data": {
      "image/png": "[encoded data removed]",
      "text/plain": [
       "<Figure size 2000x600 with 1 Axes>"
      ]
     },
     "metadata": {},
     "output_type": "display_data"
    }
   ],
   "source": [
    "print('Linear Regression', 'MSE: '+str(mean_squared_error(y_test, lin_regr_pred)), 'R2: '+str(r2_score(y_test, lin_regr_pred)))\n",
    "print('Multivariate Linear Regression', 'MSE: '+str(mean_squared_error(y_test.loc[mult_lin_regr_pred.index], mult_lin_regr_pred)), 'R2: '+str(r2_score(y_test.loc[mult_lin_regr_pred.index], mult_lin_regr_pred)))\n",
    "print('Random Forest Regression', 'MSE: '+str(mean_squared_error(y_test, rf_regr_pred)), 'R2: '+str(r2_score(y_test, rf_regr_pred)))\n",
    "print('Gradient Boosting Regression', 'MSE: '+str(mean_squared_error(y_test, gb_regr_pred)), 'R2: '+str(r2_score(y_test, gb_regr_pred)))\n",
    "print('XGBoost Regression', 'MSE: '+str(mean_squared_error(y_test, xgb_regr_pred)), 'R2: '+str(r2_score(y_test, xgb_regr_pred)))\n",
    "print('CatBoost Regression', 'MSE: '+str(mean_squared_error(y_test, cat_regr_pred)), 'R2: '+str(r2_score(y_test, cat_regr_pred)))\n",
    "print('MLP Regression', 'MSE: '+str(mean_squared_error(y_test, mlp_regr_pred)), 'R2: '+str(r2_score(y_test, mlp_regr_pred)))\n",
    "print('Neural Network Regression', 'MSE: '+str(mean_squared_error(y_test, nn_regr_pred)), 'R2: '+str(r2_score(y_test, nn_regr_pred)))\n",
    "print('Neural Network Regression 2', 'MSE: '+str(mean_squared_error(y_test, nn_regr_2_pred)), 'R2: '+str(r2_score(y_test, nn_regr_2_pred)))\n",
    "\n",
    "plt.figure(figsize=(20,6))\n",
    "plt.scatter(y_test.index, y_test, s=1, alpha=0.2, label='True')\n",
    "plt.scatter(lin_regr_pred.index, lin_regr_pred['predictions'], s=1, alpha=0.4, label='Linear Regression')\n",
    "plt.scatter(mult_lin_regr_pred.index, mult_lin_regr_pred['predictions'], s=1, alpha=0.4, label='Multivariate Linear Regression')\n",
    "plt.scatter(rf_regr_pred.index, rf_regr_pred['predictions'], s=1, alpha=0.4, label='Random Forest')\n",
    "plt.scatter(gb_regr_pred.index, gb_regr_pred['predictions'], s=1, alpha=0.4, label='Gradient Boosting')\n",
    "plt.scatter(xgb_regr_pred.index, xgb_regr_pred['predictions'], s=1, alpha=0.4, label='XGBoost')\n",
    "plt.scatter(cat_regr_pred.index, cat_regr_pred['predictions'], s=1, alpha=0.4, label='CatBoost')\n",
    "plt.scatter(mlp_regr_pred.index, mlp_regr_pred['predictions'], s=1, alpha=0.4, label='sklearn Neural Network')\n",
    "plt.scatter(nn_regr_pred.index, nn_regr_pred['predictions'], s=1, alpha=0.4, label='Tensorflow Neural Network')\n",
    "plt.scatter(nn_regr_2_pred.index, nn_regr_2_pred['predictions'], s=1, alpha=0.4, label='Tensorflow Neural Network 2')\n",
    "plt.legend()\n",
    "plt.show()\n",
    "plt.close()"
   ]
  },
  {
   "cell_type": "markdown",
   "metadata": {},
   "source": [
    "# Hyperparameter Optimize"
   ]
  },
  {
   "cell_type": "code",
   "execution_count": 18,
   "metadata": {},
   "outputs": [
    {
     "name": "stdout",
     "output_type": "stream",
     "text": [
      "100%|██████████| 50/50 [04:40<00:00,  5.60s/trial, best loss: 4.4001475929268835e-05]\n"
     ]
    }
   ],
   "source": [
    "#Hyperparameter optimization: Bayesian optimization\n",
    "#Hyperopt functions for hyperparameter optimizations\n",
    "from hyperopt import hp,fmin,tpe,STATUS_OK,Trials\n",
    "from src.models.utils import convert_dict\n",
    "from sklearn.model_selection import cross_val_score\n",
    "from xgboost import XGBRegressor\n",
    "import numpy as np\n",
    "XGB_optimizations = {}\n",
    "mode = 'SS1'\n",
    "\n",
    "seed = 42\n",
    "def objective_xgb(space):\n",
    "    model = XGBRegressor(\n",
    "                                 n_estimators = space['n_estimators'],\n",
    "                                 max_depth = space['max_depth'],\n",
    "                                 learning_rate = space['learning_rate'],\n",
    "                                 colsample_bytree = space['colsample_bytree'],\n",
    "                                 )\n",
    "    score = cross_val_score(model,  X_train, y_train, cv=5, scoring='neg_mean_squared_error').mean()\n",
    "    # We aim to minimize mse \n",
    "    return {'loss': -score, 'status': STATUS_OK }\n",
    "def optimize_xgb(trial):\n",
    "    space = {\n",
    "        'n_estimators':hp.uniformint('n_estimators',10,500),\n",
    "        'max_depth':hp.uniformint('max_depth',2,20),\n",
    "        'learning_rate':hp.uniform('learning_rate',0.001,0.5),\n",
    "        'colsample_bytree': hp.uniform('colsample_bytree',0.1, 1),\n",
    "    }\n",
    "    best = \\\n",
    "        fmin(\n",
    "            fn = objective_xgb,\n",
    "            space = space,\n",
    "            algo = tpe.suggest,\n",
    "            trials = trial,\n",
    "            max_evals = 50,\n",
    "            rstate = np.random.RandomState(seed)\n",
    "            )\n",
    "    return best\n",
    "trial2=Trials()\n",
    "XGB_optimizations[mode] = optimize_xgb(trial2)\n",
    "XGB_optimizations[mode] = convert_dict(XGB_optimizations)[mode]"
   ]
  },
  {
   "cell_type": "code",
   "execution_count": 19,
   "metadata": {},
   "outputs": [
    {
     "name": "stdout",
     "output_type": "stream",
     "text": [
      "XGBRegressor Optimized MSE: 4.017706604240629e-05 XGBRegressor Optimized R2: 0.8041233318557319\n"
     ]
    }
   ],
   "source": [
    "XGB_optimize = XGB_optimizations[mode]\n",
    "regr_xgb_optimized = \\\n",
    "    XGBRegressor(\n",
    "        n_estimators = XGB_optimize['n_estimators'],\n",
    "        max_depth = XGB_optimize['max_depth'],\n",
    "        learning_rate = XGB_optimize['learning_rate'],\n",
    "        colsample_bytree = XGB_optimize['colsample_bytree'],\n",
    "        )\n",
    "regr_xgb_optimized.fit(X_train, y_train)\n",
    "\n",
    "regr_xgb_optimized_pred = regr_xgb_optimized.predict(X_test)\n",
    "regr_xgb_optimized_mse = mean_squared_error(y_test, regr_xgb_optimized_pred)\n",
    "regr_xgb_optimized_r2 = r2_score(y_test, regr_xgb_optimized_pred)\n",
    "print(\"XGBRegressor Optimized MSE:\", regr_xgb_optimized_mse, \"XGBRegressor Optimized R2:\", regr_xgb_optimized_r2)"
   ]
  },
  {
   "cell_type": "code",
   "execution_count": 20,
   "metadata": {},
   "outputs": [
    {
     "name": "stdout",
     "output_type": "stream",
     "text": [
      "100%|██████████| 50/50 [20:36:25<00:00, 1483.70s/trial, best loss: 4.212056235146956e-05]     \n"
     ]
    },
    {
     "ename": "AttributeError",
     "evalue": "'numpy.float64' object has no attribute 'items'",
     "output_type": "error",
     "traceback": [
      "\u001b[1;31m---------------------------------------------------------------------------\u001b[0m",
      "\u001b[1;31mAttributeError\u001b[0m                            Traceback (most recent call last)",
      "Cell \u001b[1;32mIn[20], line 41\u001b[0m\n\u001b[0;32m     39\u001b[0m trial_catboost \u001b[38;5;241m=\u001b[39m Trials()\n\u001b[0;32m     40\u001b[0m CatBoost_optimizations \u001b[38;5;241m=\u001b[39m optimize_catboost(trial_catboost)\n\u001b[1;32m---> 41\u001b[0m CatBoost_optimizations \u001b[38;5;241m=\u001b[39m \u001b[43mconvert_dict\u001b[49m\u001b[43m(\u001b[49m\u001b[43mCatBoost_optimizations\u001b[49m\u001b[43m)\u001b[49m\n\u001b[0;32m     42\u001b[0m \u001b[38;5;28mprint\u001b[39m(CatBoost_optimizations)\n\u001b[0;32m     44\u001b[0m \u001b[38;5;66;03m# Creating and training the optimized CatBoostRegressor\u001b[39;00m\n",
      "File \u001b[1;32mc:\\users\\max\\documents\\owi_lab\\code\\dce_eovnorm\\dce_eov_normalisation\\src\\models\\utils.py:12\u001b[0m, in \u001b[0;36mconvert_dict\u001b[1;34m(d)\u001b[0m\n\u001b[0;32m     10\u001b[0m new_dict \u001b[38;5;241m=\u001b[39m {}\n\u001b[0;32m     11\u001b[0m \u001b[38;5;28;01mfor\u001b[39;00m key, value \u001b[38;5;129;01min\u001b[39;00m d\u001b[38;5;241m.\u001b[39mitems():\n\u001b[1;32m---> 12\u001b[0m     new_dict[key] \u001b[38;5;241m=\u001b[39m \u001b[43mconvert_float_to_int\u001b[49m\u001b[43m(\u001b[49m\u001b[43md\u001b[49m\u001b[43m[\u001b[49m\u001b[43mkey\u001b[49m\u001b[43m]\u001b[49m\u001b[43m)\u001b[49m\n\u001b[0;32m     13\u001b[0m \u001b[38;5;28;01mreturn\u001b[39;00m new_dict\n",
      "File \u001b[1;32mc:\\users\\max\\documents\\owi_lab\\code\\dce_eovnorm\\dce_eov_normalisation\\src\\models\\utils.py:3\u001b[0m, in \u001b[0;36mconvert_float_to_int\u001b[1;34m(d)\u001b[0m\n\u001b[0;32m      1\u001b[0m \u001b[38;5;28;01mdef\u001b[39;00m \u001b[38;5;21mconvert_float_to_int\u001b[39m(d):\n\u001b[0;32m      2\u001b[0m     new_dict \u001b[38;5;241m=\u001b[39m {}\n\u001b[1;32m----> 3\u001b[0m     \u001b[38;5;28;01mfor\u001b[39;00m key, value \u001b[38;5;129;01min\u001b[39;00m \u001b[43md\u001b[49m\u001b[38;5;241;43m.\u001b[39;49m\u001b[43mitems\u001b[49m():\n\u001b[0;32m      4\u001b[0m         \u001b[38;5;28;01mif\u001b[39;00m \u001b[38;5;28misinstance\u001b[39m(value, \u001b[38;5;28mfloat\u001b[39m) \u001b[38;5;129;01mand\u001b[39;00m value\u001b[38;5;241m.\u001b[39mis_integer():\n\u001b[0;32m      5\u001b[0m             new_dict[key] \u001b[38;5;241m=\u001b[39m \u001b[38;5;28mint\u001b[39m(value)\n",
      "\u001b[1;31mAttributeError\u001b[0m: 'numpy.float64' object has no attribute 'items'"
     ]
    }
   ],
   "source": [
    "from catboost import CatBoostRegressor\n",
    "from sklearn.metrics import mean_squared_error, r2_score\n",
    "\n",
    "def objective_catboost(space):\n",
    "    model = CatBoostRegressor(\n",
    "        iterations=int(space['iterations']),\n",
    "        depth=int(space['depth']),\n",
    "        learning_rate=space['learning_rate'],\n",
    "        l2_leaf_reg=space['l2_leaf_reg'],\n",
    "        border_count=int(space['border_count']),\n",
    "        random_strength=space['random_strength'],\n",
    "        bagging_temperature=space['bagging_temperature'],\n",
    "        verbose=False  # to make CatBoost quiet\n",
    "    )\n",
    "    score = cross_val_score(model, X_train, y_train, cv=5, scoring='neg_mean_squared_error').mean()\n",
    "    return {'loss': -score, 'status': STATUS_OK}\n",
    "\n",
    "def optimize_catboost(trial):\n",
    "    space = {\n",
    "        'iterations': hp.uniformint('iterations', 100, 1000),\n",
    "        'depth': hp.uniformint('depth', 2, 16),\n",
    "        'learning_rate': hp.uniform('learning_rate', 0.01, 0.5),\n",
    "        'l2_leaf_reg': hp.uniform('l2_leaf_reg', 1, 10),\n",
    "        'border_count': hp.uniformint('border_count', 32, 255),\n",
    "        'random_strength': hp.uniform('random_strength', 0, 20),\n",
    "        'bagging_temperature': hp.uniform('bagging_temperature', 0, 1)\n",
    "    }\n",
    "    best = fmin(\n",
    "        fn=objective_catboost,\n",
    "        space=space,\n",
    "        algo=tpe.suggest,\n",
    "        trials=trial,\n",
    "        max_evals=50,\n",
    "        rstate=np.random.RandomState(seed)\n",
    "    )\n",
    "    return best\n",
    "\n",
    "# Example usage\n",
    "trial_catboost = Trials()\n",
    "CatBoost_optimizations = optimize_catboost(trial_catboost)\n",
    "CatBoost_optimizations = convert_dict(CatBoost_optimizations)\n",
    "print(CatBoost_optimizations)\n",
    "\n",
    "# Creating and training the optimized CatBoostRegressor\n",
    "regr_catboost_optimized = CatBoostRegressor(\n",
    "    **CatBoost_optimizations,\n",
    "    verbose=False\n",
    ")\n",
    "regr_catboost_optimized.fit(X_train, y_train)\n",
    "\n",
    "# Prediction and evaluation\n",
    "regr_catboost_optimized_pred = regr_catboost_optimized.predict(X_test)\n",
    "regr_catboost_optimized_mse = mean_squared_error(y_test, regr_catboost_optimized_pred)\n",
    "regr_catboost_optimized_r2 = r2_score(y_test, regr_catboost_optimized_pred)\n",
    "print(\"CatBoostRegressor Optimized MSE:\", regr_catboost_optimized_mse, \"CatBoostRegressor Optimized R2:\", regr_catboost_optimized_r2)\n"
   ]
  },
  {
   "cell_type": "code",
   "execution_count": null,
   "metadata": {},
   "outputs": [
    {
     "data": {
      "text/plain": [
       "{'bagging_temperature': 0.0024210148458735647,\n",
       " 'border_count': 148.0,\n",
       " 'depth': 9.0,\n",
       " 'iterations': 404.0,\n",
       " 'l2_leaf_reg': 9.678586732885769,\n",
       " 'learning_rate': 0.027465163258532488,\n",
       " 'random_strength': 13.235228781449614}"
      ]
     },
     "execution_count": 15,
     "metadata": {},
     "output_type": "execute_result"
    }
   ],
   "source": [
    "CatBoost_optimizations"
   ]
  },
  {
   "cell_type": "code",
   "execution_count": null,
   "metadata": {},
   "outputs": [],
   "source": [
    "CatBoost_optimizations_dict = {}\n",
    "CatBoost_optimizations_dict[mode] = CatBoost_optimizations"
   ]
  },
  {
   "cell_type": "code",
   "execution_count": null,
   "metadata": {},
   "outputs": [
    {
     "name": "stdout",
     "output_type": "stream",
     "text": [
      "{'bagging_temperature': 0.0024210148458735647, 'border_count': 148, 'depth': 9, 'iterations': 404, 'l2_leaf_reg': 9.678586732885769, 'learning_rate': 0.027465163258532488, 'random_strength': 13.235228781449614}\n",
      "CatBoostRegressor Optimized MSE: 8.340713102589764e-06 CatBoostRegressor Optimized R2: 0.10561985950550568\n"
     ]
    }
   ],
   "source": [
    "CatBoost_optimizations = convert_dict(CatBoost_optimizations_dict)[mode]\n",
    "print(CatBoost_optimizations)\n",
    "\n",
    "# Creating and training the optimized CatBoostRegressor\n",
    "regr_catboost_optimized = CatBoostRegressor(\n",
    "    **CatBoost_optimizations,\n",
    "    verbose=False\n",
    ")\n",
    "regr_catboost_optimized.fit(X_train, y_train)\n",
    "\n",
    "# Prediction and evaluation\n",
    "regr_catboost_optimized_pred = regr_catboost_optimized.predict(X_test)\n",
    "regr_catboost_optimized_mse = mean_squared_error(y_test, regr_catboost_optimized_pred)\n",
    "regr_catboost_optimized_r2 = r2_score(y_test, regr_catboost_optimized_pred)\n",
    "print(\"CatBoostRegressor Optimized MSE:\", regr_catboost_optimized_mse, \"CatBoostRegressor Optimized R2:\", regr_catboost_optimized_r2)\n"
   ]
  },
  {
   "cell_type": "code",
   "execution_count": null,
   "metadata": {},
   "outputs": [],
   "source": [
    "from src.models.learning_rate import *\n",
    "\n",
    "from keras.models import Sequential\n",
    "from keras.layers import Dense, BatchNormalization\n",
    "from keras.callbacks import EarlyStopping\n",
    "from keras.optimizers import Adam\n",
    "import numpy as np\n",
    "from hyperopt import hp, fmin, tpe, STATUS_OK, Trials\n",
    "\n",
    "def create_model(hidden_layers, units, batch_normalization):\n",
    "    model = Sequential()\n",
    "    model.add(Dense(units[0], input_dim=X_train.shape[1], activation='relu'))\n",
    "    if batch_normalization:\n",
    "        model.add(BatchNormalization())\n",
    "\n",
    "    for i in range(1, hidden_layers):\n",
    "        model.add(Dense(units[i], activation='relu'))\n",
    "        if batch_normalization:\n",
    "            model.add(BatchNormalization())\n",
    "\n",
    "    model.add(Dense(1, activation='linear'))  # Assuming a regression problem\n",
    "    return model\n",
    "\n",
    "def objective(params):\n",
    "    model = create_model(params['hidden_layers'], [params['units_1'], params['units_2'], params['units_3']], params['batch_normalization'])\n",
    "    # Learning rate schedulers\n",
    "    if params['lr_schedule'] == 'linear':\n",
    "        lr_scheduler = LinearLearningRateScheduler(params['start_lr'], params['end_lr'], 100)\n",
    "    elif params['lr_schedule'] == 'sinusoidal':\n",
    "        lr_scheduler = SinusoidalLearningRateScheduler(params['base_lr'], params['max_lr'], 100)\n",
    "        \n",
    "    optimizer = Adam(learning_rate=params['learning_rate'])\n",
    "    model.compile(loss='mean_squared_error', optimizer=optimizer)\n",
    "\n",
    "    early_stop = EarlyStopping(monitor='val_loss', patience=5)\n",
    "    model.fit(X_train, y_train, epochs=100, validation_split=0.2, callbacks=[early_stop], verbose=0)\n",
    "\n",
    "    score = model.evaluate(X_test, y_test, verbose=0)\n",
    "    return {'loss': score, 'status': STATUS_OK}\n",
    "\n",
    "def optimize(hidden_layers):\n",
    "    space = {\n",
    "        'hidden_layers': hidden_layers,\n",
    "        'units_1': hp.uniform('units_1', 32, 256),\n",
    "        'units_2': hp.uniform('units_2', 32, 256) if hidden_layers > 1 else None,\n",
    "        'units_3': hp.uniform('units_3', 32, 256) if hidden_layers > 2 else None,\n",
    "        'batch_normalization': hp.choice('batch_normalization', [False, True]),\n",
    "        'learning_rate': hp.uniform('learning_rate', 0.0001, 0.01),\n",
    "        'lr_schedule': hp.choice('lr_schedule', ['constant', 'linear', 'sinusoidal']),\n",
    "        'start_lr': hp.uniform('start_lr', 0.0001, 0.01),\n",
    "        'end_lr': hp.uniform('end_lr', 0.0001, 0.01),\n",
    "        'base_lr': hp.uniform('base_lr', 0.0001, 0.01),\n",
    "        'max_lr': hp.uniform('max_lr', 0.0001, 0.01),\n",
    "    }\n",
    "    trials = Trials()\n",
    "    best = fmin(objective, space, algo=tpe.suggest, max_evals=50, trials=trials)\n",
    "    return best\n"
   ]
  },
  {
   "cell_type": "code",
   "execution_count": null,
   "metadata": {},
   "outputs": [],
   "source": [
    "best_hyperparams_1_layer = optimize(1)\n",
    "print(\"Best Hyperparameters for 1 layer:\", best_hyperparams_1_layer)"
   ]
  },
  {
   "cell_type": "code",
   "execution_count": null,
   "metadata": {},
   "outputs": [],
   "source": [
    "best_hyperparams_2_layers = optimize(2)\n",
    "print(\"Best Hyperparameters for 2 layers:\", best_hyperparams_2_layers)"
   ]
  },
  {
   "cell_type": "code",
   "execution_count": null,
   "metadata": {},
   "outputs": [],
   "source": [
    "best_hyperparams_3_layers = optimize(3)\n",
    "print(\"Best Hyperparameters for 3 layers:\", best_hyperparams_3_layers)"
   ]
  },
  {
   "cell_type": "code",
   "execution_count": null,
   "metadata": {},
   "outputs": [],
   "source": [
    "from src.models.learning_rate import *\n",
    "from hyperopt import hp, fmin, tpe, STATUS_OK, Trials\n",
    "from keras.models import Sequential\n",
    "from keras.layers import Dense, BatchNormalization\n",
    "from keras.callbacks import EarlyStopping\n",
    "from keras.optimizers import Adam\n",
    "import numpy as np\n",
    "\n",
    "def create_model(params):\n",
    "    model = Sequential()\n",
    "    model.add(Dense(params['units_1'], input_dim=X_train.shape[1], activation='relu'))\n",
    "    if params['batch_normalization']:\n",
    "        model.add(BatchNormalization())\n",
    "    for i in range(1, params['hidden_layers']):\n",
    "        model.add(Dense(params['units_' + str(i + 1)], activation='relu'))\n",
    "        if params['batch_normalization']:\n",
    "            model.add(BatchNormalization())\n",
    "\n",
    "    model.add(Dense(1, activation='linear'))  # Assuming a regression problem\n",
    "    return model\n",
    "\n",
    "def objective(params):\n",
    "    model = create_model(params)\n",
    "\n",
    "    # Learning rate schedulers\n",
    "    if params['lr_schedule'] == 'linear':\n",
    "        lr_scheduler = LinearLearningRateScheduler(params['start_lr'], params['end_lr'], 100)\n",
    "    elif params['lr_schedule'] == 'sinusoidal':\n",
    "        lr_scheduler = SinusoidalLearningRateScheduler(params['base_lr'], params['max_lr'], 100)\n",
    "\n",
    "    optimizer = Adam(learning_rate=params['learning_rate'])\n",
    "    model.compile(loss='mean_squared_error', optimizer=optimizer)\n",
    "\n",
    "    early_stop = EarlyStopping(monitor='val_loss', patience=5)\n",
    "    model.fit(X_train, y_train, epochs=100, validation_split=0.2, callbacks=[early_stop, lr_scheduler], verbose=0)\n",
    "\n",
    "    score = model.evaluate(X_test, y_test, verbose=0)\n",
    "    return {'loss': score, 'status': STATUS_OK}\n",
    "\n",
    "def optimize():\n",
    "    space = {\n",
    "        'hidden_layers': hp.choice('hidden_layers', [1, 2, 3]),\n",
    "        'units_1': hp.uniform('units_1', 32, 256),\n",
    "        'units_2': hp.uniform('units_2', 32, 256),\n",
    "        'units_3': hp.uniform('units_3', 32, 256),\n",
    "        'batch_normalization': hp.choice('batch_normalization', [False, True]),\n",
    "        'learning_rate': hp.uniform('learning_rate', 0.0001, 0.01),\n",
    "        'lr_schedule': hp.choice('lr_schedule', ['constant', 'linear', 'sinusoidal']),\n",
    "        'start_lr': hp.uniform('start_lr', 0.0001, 0.01),\n",
    "        'end_lr': hp.uniform('end_lr', 0.0001, 0.01),\n",
    "        'base_lr': hp.uniform('base_lr', 0.0001, 0.01),\n",
    "        'max_lr': hp.uniform('max_lr', 0.0001, 0.01),\n",
    "    }\n",
    "    trials = Trials()\n",
    "    best = fmin(objective, space, algo=tpe.suggest, max_evals=50, trials=trials)\n",
    "    return best\n",
    "\n",
    "best_hyperparams = optimize()\n",
    "print(best_hyperparams)\n"
   ]
  }
 ],
 "metadata": {
  "kernelspec": {
   "display_name": "dce_eov_norm",
   "language": "python",
   "name": "python3"
  },
  "language_info": {
   "codemirror_mode": {
    "name": "ipython",
    "version": 3
   },
   "file_extension": ".py",
   "mimetype": "text/x-python",
   "name": "python",
   "nbconvert_exporter": "python",
   "pygments_lexer": "ipython3",
   "version": "3.11.5"
  }
 },
 "nbformat": 4,
 "nbformat_minor": 2
}
